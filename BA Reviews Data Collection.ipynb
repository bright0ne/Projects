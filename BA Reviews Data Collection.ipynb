{
 "cells": [
  {
   "cell_type": "code",
   "execution_count": 7,
   "id": "936242ac",
   "metadata": {},
   "outputs": [],
   "source": [
    "import requests\n",
    "from bs4 import BeautifulSoup\n",
    "import pandas as pd"
   ]
  },
  {
   "cell_type": "code",
   "execution_count": 2,
   "id": "c997c399",
   "metadata": {},
   "outputs": [
    {
     "name": "stdout",
     "output_type": "stream",
     "text": [
      "Scraping page 1\n",
      "   ---> 100 total reviews\n",
      "Scraping page 2\n",
      "   ---> 200 total reviews\n",
      "Scraping page 3\n",
      "   ---> 300 total reviews\n",
      "Scraping page 4\n",
      "   ---> 400 total reviews\n",
      "Scraping page 5\n",
      "   ---> 500 total reviews\n",
      "Scraping page 6\n",
      "   ---> 600 total reviews\n",
      "Scraping page 7\n",
      "   ---> 700 total reviews\n",
      "Scraping page 8\n",
      "   ---> 800 total reviews\n",
      "Scraping page 9\n",
      "   ---> 900 total reviews\n",
      "Scraping page 10\n",
      "   ---> 1000 total reviews\n",
      "Scraping page 11\n",
      "   ---> 1100 total reviews\n",
      "Scraping page 12\n",
      "   ---> 1200 total reviews\n",
      "Scraping page 13\n",
      "   ---> 1300 total reviews\n",
      "Scraping page 14\n",
      "   ---> 1400 total reviews\n",
      "Scraping page 15\n",
      "   ---> 1500 total reviews\n",
      "Scraping page 16\n",
      "   ---> 1600 total reviews\n",
      "Scraping page 17\n",
      "   ---> 1700 total reviews\n",
      "Scraping page 18\n",
      "   ---> 1800 total reviews\n",
      "Scraping page 19\n",
      "   ---> 1900 total reviews\n",
      "Scraping page 20\n",
      "   ---> 2000 total reviews\n",
      "Scraping page 21\n",
      "   ---> 2100 total reviews\n",
      "Scraping page 22\n",
      "   ---> 2200 total reviews\n",
      "Scraping page 23\n",
      "   ---> 2300 total reviews\n",
      "Scraping page 24\n",
      "   ---> 2400 total reviews\n",
      "Scraping page 25\n",
      "   ---> 2500 total reviews\n",
      "Scraping page 26\n",
      "   ---> 2600 total reviews\n",
      "Scraping page 27\n",
      "   ---> 2700 total reviews\n",
      "Scraping page 28\n",
      "   ---> 2800 total reviews\n",
      "Scraping page 29\n",
      "   ---> 2900 total reviews\n",
      "Scraping page 30\n",
      "   ---> 3000 total reviews\n"
     ]
    }
   ],
   "source": [
    "base_url = 'https://www.airlinequality.com/airline-reviews/british-airways'\n",
    "pages = 30\n",
    "page_size = 100\n",
    "\n",
    "reviews = []\n",
    "\n",
    "for i in range(1, pages + 1):\n",
    "    print(f'Scraping page {i}')\n",
    "    \n",
    "    url = f'{base_url}/page/{i}?sortny=post_date%3ADesc&pagesize={page_size}'\n",
    "    \n",
    "    response = requests.get(url)\n",
    "    \n",
    "    content = response.content\n",
    "    parsed_content = BeautifulSoup(content, 'html.parser')\n",
    "    for para in parsed_content.find_all(\"div\", {\"class\": \"text_content\"}):\n",
    "        reviews.append(para.get_text())\n",
    "    \n",
    "    print(f\"   ---> {len(reviews)} total reviews\")"
   ]
  },
  {
   "cell_type": "code",
   "execution_count": 11,
   "id": "b5e3b9b8",
   "metadata": {},
   "outputs": [
    {
     "data": {
      "text/html": [
       "<div>\n",
       "<style scoped>\n",
       "    .dataframe tbody tr th:only-of-type {\n",
       "        vertical-align: middle;\n",
       "    }\n",
       "\n",
       "    .dataframe tbody tr th {\n",
       "        vertical-align: top;\n",
       "    }\n",
       "\n",
       "    .dataframe thead th {\n",
       "        text-align: right;\n",
       "    }\n",
       "</style>\n",
       "<table border=\"1\" class=\"dataframe\">\n",
       "  <thead>\n",
       "    <tr style=\"text-align: right;\">\n",
       "      <th></th>\n",
       "      <th>Unnamed: 0</th>\n",
       "      <th>reviews</th>\n",
       "    </tr>\n",
       "  </thead>\n",
       "  <tbody>\n",
       "    <tr>\n",
       "      <th>0</th>\n",
       "      <td>0</td>\n",
       "      <td>✅ Trip Verified |  I fly British Airways weekl...</td>\n",
       "    </tr>\n",
       "    <tr>\n",
       "      <th>1</th>\n",
       "      <td>1</td>\n",
       "      <td>Not Verified |  Everything was ok until our co...</td>\n",
       "    </tr>\n",
       "    <tr>\n",
       "      <th>2</th>\n",
       "      <td>2</td>\n",
       "      <td>Not Verified |  My initial flight was cancelle...</td>\n",
       "    </tr>\n",
       "    <tr>\n",
       "      <th>3</th>\n",
       "      <td>3</td>\n",
       "      <td>Not Verified |  We will never fly British Airw...</td>\n",
       "    </tr>\n",
       "    <tr>\n",
       "      <th>4</th>\n",
       "      <td>4</td>\n",
       "      <td>✅ Trip Verified | Check in and security cleara...</td>\n",
       "    </tr>\n",
       "    <tr>\n",
       "      <th>5</th>\n",
       "      <td>5</td>\n",
       "      <td>Not Verified |  British Airways has confirmed ...</td>\n",
       "    </tr>\n",
       "    <tr>\n",
       "      <th>6</th>\n",
       "      <td>6</td>\n",
       "      <td>✅ Trip Verified | Worst BA experience. I was s...</td>\n",
       "    </tr>\n",
       "    <tr>\n",
       "      <th>7</th>\n",
       "      <td>7</td>\n",
       "      <td>✅ Trip Verified |  My daughter and I were deni...</td>\n",
       "    </tr>\n",
       "    <tr>\n",
       "      <th>8</th>\n",
       "      <td>8</td>\n",
       "      <td>✅ Trip Verified | Despite boarding being the u...</td>\n",
       "    </tr>\n",
       "    <tr>\n",
       "      <th>9</th>\n",
       "      <td>9</td>\n",
       "      <td>Not Verified |  Flight cancelled, no crew! 9th...</td>\n",
       "    </tr>\n",
       "    <tr>\n",
       "      <th>10</th>\n",
       "      <td>10</td>\n",
       "      <td>Not Verified |  The worst service ever, my bag...</td>\n",
       "    </tr>\n",
       "    <tr>\n",
       "      <th>11</th>\n",
       "      <td>11</td>\n",
       "      <td>✅ Trip Verified |  4/4 flights we booked this ...</td>\n",
       "    </tr>\n",
       "    <tr>\n",
       "      <th>12</th>\n",
       "      <td>12</td>\n",
       "      <td>✅ Trip Verified |  British Airways has a total...</td>\n",
       "    </tr>\n",
       "    <tr>\n",
       "      <th>13</th>\n",
       "      <td>13</td>\n",
       "      <td>✅ Trip Verified | London Heathrow to Keflavik,...</td>\n",
       "    </tr>\n",
       "    <tr>\n",
       "      <th>14</th>\n",
       "      <td>14</td>\n",
       "      <td>✅ Trip Verified | Mumbai to London Heathrow in...</td>\n",
       "    </tr>\n",
       "    <tr>\n",
       "      <th>15</th>\n",
       "      <td>15</td>\n",
       "      <td>✅ Trip Verified |  Care and support shocking. ...</td>\n",
       "    </tr>\n",
       "    <tr>\n",
       "      <th>16</th>\n",
       "      <td>16</td>\n",
       "      <td>✅ Trip Verified |  Flying A380 business class ...</td>\n",
       "    </tr>\n",
       "    <tr>\n",
       "      <th>17</th>\n",
       "      <td>17</td>\n",
       "      <td>✅ Trip Verified |  British Airways absolutely ...</td>\n",
       "    </tr>\n",
       "    <tr>\n",
       "      <th>18</th>\n",
       "      <td>18</td>\n",
       "      <td>✅ Trip Verified |  My recent experience with B...</td>\n",
       "    </tr>\n",
       "    <tr>\n",
       "      <th>19</th>\n",
       "      <td>19</td>\n",
       "      <td>✅ Trip Verified |  This is to express our disp...</td>\n",
       "    </tr>\n",
       "  </tbody>\n",
       "</table>\n",
       "</div>"
      ],
      "text/plain": [
       "    Unnamed: 0                                            reviews\n",
       "0            0  ✅ Trip Verified |  I fly British Airways weekl...\n",
       "1            1  Not Verified |  Everything was ok until our co...\n",
       "2            2  Not Verified |  My initial flight was cancelle...\n",
       "3            3  Not Verified |  We will never fly British Airw...\n",
       "4            4  ✅ Trip Verified | Check in and security cleara...\n",
       "5            5  Not Verified |  British Airways has confirmed ...\n",
       "6            6  ✅ Trip Verified | Worst BA experience. I was s...\n",
       "7            7  ✅ Trip Verified |  My daughter and I were deni...\n",
       "8            8  ✅ Trip Verified | Despite boarding being the u...\n",
       "9            9  Not Verified |  Flight cancelled, no crew! 9th...\n",
       "10          10  Not Verified |  The worst service ever, my bag...\n",
       "11          11  ✅ Trip Verified |  4/4 flights we booked this ...\n",
       "12          12  ✅ Trip Verified |  British Airways has a total...\n",
       "13          13  ✅ Trip Verified | London Heathrow to Keflavik,...\n",
       "14          14  ✅ Trip Verified | Mumbai to London Heathrow in...\n",
       "15          15  ✅ Trip Verified |  Care and support shocking. ...\n",
       "16          16  ✅ Trip Verified |  Flying A380 business class ...\n",
       "17          17  ✅ Trip Verified |  British Airways absolutely ...\n",
       "18          18  ✅ Trip Verified |  My recent experience with B...\n",
       "19          19  ✅ Trip Verified |  This is to express our disp..."
      ]
     },
     "execution_count": 11,
     "metadata": {},
     "output_type": "execute_result"
    }
   ],
   "source": [
    "df = pd.read_csv('BA Reviees')\n",
    "df.head(20)"
   ]
  },
  {
   "cell_type": "code",
   "execution_count": 4,
   "id": "7976583b",
   "metadata": {},
   "outputs": [],
   "source": [
    "df.to_csv('BA Reviees')"
   ]
  },
  {
   "cell_type": "code",
   "execution_count": 5,
   "id": "2c9fa48d",
   "metadata": {},
   "outputs": [
    {
     "data": {
      "text/plain": [
       "(3000, 1)"
      ]
     },
     "execution_count": 5,
     "metadata": {},
     "output_type": "execute_result"
    }
   ],
   "source": [
    "df.shape"
   ]
  },
  {
   "cell_type": "code",
   "execution_count": 8,
   "id": "9e8a979d",
   "metadata": {},
   "outputs": [
    {
     "ename": "NameError",
     "evalue": "name 'df' is not defined",
     "output_type": "error",
     "traceback": [
      "\u001b[1;31m---------------------------------------------------------------------------\u001b[0m",
      "\u001b[1;31mNameError\u001b[0m                                 Traceback (most recent call last)",
      "Cell \u001b[1;32mIn[8], line 3\u001b[0m\n\u001b[0;32m      1\u001b[0m substring_to_remove \u001b[38;5;241m=\u001b[39m \u001b[38;5;124m'\u001b[39m\u001b[38;5;124mTrip Verified\u001b[39m\u001b[38;5;124m'\u001b[39m\n\u001b[1;32m----> 3\u001b[0m df[\u001b[38;5;124m'\u001b[39m\u001b[38;5;124mreviews\u001b[39m\u001b[38;5;124m'\u001b[39m] \u001b[38;5;241m=\u001b[39m \u001b[43mdf\u001b[49m[\u001b[38;5;124m'\u001b[39m\u001b[38;5;124mreviews\u001b[39m\u001b[38;5;124m'\u001b[39m]\u001b[38;5;241m.\u001b[39mstr\u001b[38;5;241m.\u001b[39mreplace(substring_to_remove, \u001b[38;5;124m'\u001b[39m\u001b[38;5;124m'\u001b[39m)\n\u001b[0;32m      5\u001b[0m \u001b[38;5;28mprint\u001b[39m(df)\n",
      "\u001b[1;31mNameError\u001b[0m: name 'df' is not defined"
     ]
    }
   ],
   "source": [
    "substring_to_remove = 'Trip Verified'\n",
    "\n",
    "df['reviews'] = df['reviews'].str.replace(substring_to_remove, '')\n",
    "\n",
    "print(df)"
   ]
  },
  {
   "cell_type": "code",
   "execution_count": 7,
   "id": "8dab931e",
   "metadata": {},
   "outputs": [
    {
     "data": {
      "text/html": [
       "<div>\n",
       "<style scoped>\n",
       "    .dataframe tbody tr th:only-of-type {\n",
       "        vertical-align: middle;\n",
       "    }\n",
       "\n",
       "    .dataframe tbody tr th {\n",
       "        vertical-align: top;\n",
       "    }\n",
       "\n",
       "    .dataframe thead th {\n",
       "        text-align: right;\n",
       "    }\n",
       "</style>\n",
       "<table border=\"1\" class=\"dataframe\">\n",
       "  <thead>\n",
       "    <tr style=\"text-align: right;\">\n",
       "      <th></th>\n",
       "      <th>reviews</th>\n",
       "    </tr>\n",
       "  </thead>\n",
       "  <tbody>\n",
       "    <tr>\n",
       "      <th>0</th>\n",
       "      <td>✅  |  I fly British Airways weekly not because...</td>\n",
       "    </tr>\n",
       "    <tr>\n",
       "      <th>1</th>\n",
       "      <td>Not Verified |  Everything was ok until our co...</td>\n",
       "    </tr>\n",
       "    <tr>\n",
       "      <th>2</th>\n",
       "      <td>Not Verified |  My initial flight was cancelle...</td>\n",
       "    </tr>\n",
       "    <tr>\n",
       "      <th>3</th>\n",
       "      <td>Not Verified |  We will never fly British Airw...</td>\n",
       "    </tr>\n",
       "    <tr>\n",
       "      <th>4</th>\n",
       "      <td>✅  | Check in and security clearance very quic...</td>\n",
       "    </tr>\n",
       "  </tbody>\n",
       "</table>\n",
       "</div>"
      ],
      "text/plain": [
       "                                             reviews\n",
       "0  ✅  |  I fly British Airways weekly not because...\n",
       "1  Not Verified |  Everything was ok until our co...\n",
       "2  Not Verified |  My initial flight was cancelle...\n",
       "3  Not Verified |  We will never fly British Airw...\n",
       "4  ✅  | Check in and security clearance very quic..."
      ]
     },
     "execution_count": 7,
     "metadata": {},
     "output_type": "execute_result"
    }
   ],
   "source": [
    "substring_to_remove = ' Not Verified '\n",
    "\n",
    "df['reviews'] = df['reviews'].str.replace(substring_to_remove, '')\n",
    "\n",
    "df.head()"
   ]
  },
  {
   "cell_type": "code",
   "execution_count": 8,
   "id": "67be3f86",
   "metadata": {},
   "outputs": [
    {
     "data": {
      "text/html": [
       "<div>\n",
       "<style scoped>\n",
       "    .dataframe tbody tr th:only-of-type {\n",
       "        vertical-align: middle;\n",
       "    }\n",
       "\n",
       "    .dataframe tbody tr th {\n",
       "        vertical-align: top;\n",
       "    }\n",
       "\n",
       "    .dataframe thead th {\n",
       "        text-align: right;\n",
       "    }\n",
       "</style>\n",
       "<table border=\"1\" class=\"dataframe\">\n",
       "  <thead>\n",
       "    <tr style=\"text-align: right;\">\n",
       "      <th></th>\n",
       "      <th>reviews</th>\n",
       "    </tr>\n",
       "  </thead>\n",
       "  <tbody>\n",
       "    <tr>\n",
       "      <th>0</th>\n",
       "      <td>✅  |  I fly British Airways weekly not because...</td>\n",
       "    </tr>\n",
       "    <tr>\n",
       "      <th>1</th>\n",
       "      <td>Not Verified |  Everything was ok until our co...</td>\n",
       "    </tr>\n",
       "    <tr>\n",
       "      <th>2</th>\n",
       "      <td>Not Verified |  My initial flight was cancelle...</td>\n",
       "    </tr>\n",
       "    <tr>\n",
       "      <th>3</th>\n",
       "      <td>Not Verified |  We will never fly British Airw...</td>\n",
       "    </tr>\n",
       "    <tr>\n",
       "      <th>4</th>\n",
       "      <td>✅  | Check in and security clearance very quic...</td>\n",
       "    </tr>\n",
       "  </tbody>\n",
       "</table>\n",
       "</div>"
      ],
      "text/plain": [
       "                                             reviews\n",
       "0  ✅  |  I fly British Airways weekly not because...\n",
       "1  Not Verified |  Everything was ok until our co...\n",
       "2  Not Verified |  My initial flight was cancelle...\n",
       "3  Not Verified |  We will never fly British Airw...\n",
       "4  ✅  | Check in and security clearance very quic..."
      ]
     },
     "execution_count": 8,
     "metadata": {},
     "output_type": "execute_result"
    }
   ],
   "source": [
    "symbol_to_remove = ' ✅ '\n",
    "\n",
    "df['reviews'] = df['reviews'].str.replace(symbol_to_remove, '')\n",
    "\n",
    "df.head()"
   ]
  },
  {
   "cell_type": "code",
   "execution_count": 9,
   "id": "49e3a522",
   "metadata": {},
   "outputs": [
    {
     "name": "stdout",
     "output_type": "stream",
     "text": [
      "909.7633333333333\n",
      "760.0\n",
      "590.5772841029263\n"
     ]
    }
   ],
   "source": [
    "review_lengths = df['reviews'].apply(len)\n",
    "mean_length = review_lengths.mean()\n",
    "median_length = review_lengths.median()\n",
    "std_dev = review_lengths.std()\n",
    "print(mean_length)\n",
    "print(median_length)\n",
    "print(std_dev)"
   ]
  },
  {
   "cell_type": "code",
   "execution_count": 10,
   "id": "036675f9",
   "metadata": {},
   "outputs": [
    {
     "data": {
      "text/plain": [
       "Text(0, 0.5, 'Frequency')"
      ]
     },
     "execution_count": 10,
     "metadata": {},
     "output_type": "execute_result"
    },
    {
     "data": {
      "image/png": "[encoded data removed]",
      "text/plain": [
       "<Figure size 640x480 with 1 Axes>"
      ]
     },
     "metadata": {},
     "output_type": "display_data"
    }
   ],
   "source": [
    "df['word_count'] = df['reviews'].apply(lambda x: len(x.split()))\n",
    "\n",
    "import matplotlib.pyplot as plt\n",
    "%matplotlib inline\n",
    "plt.hist(df['word_count'], bins=20)\n",
    "plt.xlabel('Word Count')\n",
    "plt.ylabel('Frequency')"
   ]
  },
  {
   "cell_type": "code",
   "execution_count": 11,
   "id": "3a8c97bf",
   "metadata": {},
   "outputs": [
    {
     "name": "stdout",
     "output_type": "stream",
     "text": [
      "Requirement already satisfied: textblob in c:\\users\\yusuf\\appdata\\local\\anaconda3\\lib\\site-packages (0.17.1)\n",
      "Requirement already satisfied: nltk>=3.1 in c:\\users\\yusuf\\appdata\\local\\anaconda3\\lib\\site-packages (from textblob) (3.7)\n",
      "Requirement already satisfied: joblib in c:\\users\\yusuf\\appdata\\local\\anaconda3\\lib\\site-packages (from nltk>=3.1->textblob) (1.3.2)\n",
      "Requirement already satisfied: click in c:\\users\\yusuf\\appdata\\local\\anaconda3\\lib\\site-packages (from nltk>=3.1->textblob) (8.0.4)\n",
      "Requirement already satisfied: tqdm in c:\\users\\yusuf\\appdata\\local\\anaconda3\\lib\\site-packages (from nltk>=3.1->textblob) (4.64.1)\n",
      "Requirement already satisfied: regex>=2021.8.3 in c:\\users\\yusuf\\appdata\\local\\anaconda3\\lib\\site-packages (from nltk>=3.1->textblob) (2022.7.9)\n",
      "Requirement already satisfied: colorama in c:\\users\\yusuf\\appdata\\local\\anaconda3\\lib\\site-packages (from click->nltk>=3.1->textblob) (0.4.6)\n",
      "Note: you may need to restart the kernel to use updated packages.\n"
     ]
    }
   ],
   "source": [
    "pip install textblob"
   ]
  },
  {
   "cell_type": "code",
   "execution_count": 12,
   "id": "eceb1289",
   "metadata": {},
   "outputs": [
    {
     "name": "stderr",
     "output_type": "stream",
     "text": [
      "C:\\Users\\yusuf\\AppData\\Local\\anaconda3\\lib\\site-packages\\seaborn\\_oldcore.py:1498: FutureWarning: is_categorical_dtype is deprecated and will be removed in a future version. Use isinstance(dtype, CategoricalDtype) instead\n",
      "  if pd.api.types.is_categorical_dtype(vector):\n",
      "C:\\Users\\yusuf\\AppData\\Local\\anaconda3\\lib\\site-packages\\seaborn\\_oldcore.py:1119: FutureWarning: use_inf_as_na option is deprecated and will be removed in a future version. Convert inf values to NaN before operating instead.\n",
      "  with pd.option_context('mode.use_inf_as_na', True):\n"
     ]
    },
    {
     "data": {
      "text/plain": [
       "Text(0, 0.5, 'Frequency')"
      ]
     },
     "execution_count": 12,
     "metadata": {},
     "output_type": "execute_result"
    },
    {
     "data": {
      "image/png": "[encoded data removed]",
      "text/plain": [
       "<Figure size 640x480 with 1 Axes>"
      ]
     },
     "metadata": {},
     "output_type": "display_data"
    }
   ],
   "source": [
    "from textblob import TextBlob\n",
    "import seaborn as sns\n",
    "df['sentiment'] = df['reviews'].apply(lambda x: TextBlob(x).sentiment.polarity)\n",
    "\n",
    "sns.set_style(\"whitegrid\")\n",
    "sns.histplot(df['sentiment'], bins=20)\n",
    "plt.xlabel('Sentiment Score')\n",
    "plt.ylabel('Frequency')"
   ]
  },
  {
   "cell_type": "code",
   "execution_count": 13,
   "id": "cfeda3b6",
   "metadata": {},
   "outputs": [
    {
     "name": "stdout",
     "output_type": "stream",
     "text": [
      "Requirement already satisfied: gensim in c:\\users\\yusuf\\appdata\\local\\anaconda3\\lib\\site-packages (4.3.0)\n",
      "Requirement already satisfied: numpy>=1.18.5 in c:\\users\\yusuf\\appdata\\local\\anaconda3\\lib\\site-packages (from gensim) (1.26.0)\n",
      "Requirement already satisfied: scipy>=1.7.0 in c:\\users\\yusuf\\appdata\\local\\anaconda3\\lib\\site-packages (from gensim) (1.10.0)\n",
      "Requirement already satisfied: smart-open>=1.8.1 in c:\\users\\yusuf\\appdata\\local\\anaconda3\\lib\\site-packages (from gensim) (5.2.1)\n",
      "Requirement already satisfied: FuzzyTM>=0.4.0 in c:\\users\\yusuf\\appdata\\local\\anaconda3\\lib\\site-packages (from gensim) (2.0.5)\n",
      "Requirement already satisfied: pandas in c:\\users\\yusuf\\appdata\\local\\anaconda3\\lib\\site-packages (from FuzzyTM>=0.4.0->gensim) (2.1.1)\n",
      "Requirement already satisfied: pyfume in c:\\users\\yusuf\\appdata\\local\\anaconda3\\lib\\site-packages (from FuzzyTM>=0.4.0->gensim) (0.2.25)\n",
      "Requirement already satisfied: tzdata>=2022.1 in c:\\users\\yusuf\\appdata\\local\\anaconda3\\lib\\site-packages (from pandas->FuzzyTM>=0.4.0->gensim) (2023.3)\n",
      "Requirement already satisfied: python-dateutil>=2.8.2 in c:\\users\\yusuf\\appdata\\local\\anaconda3\\lib\\site-packages (from pandas->FuzzyTM>=0.4.0->gensim) (2.8.2)\n",
      "Requirement already satisfied: pytz>=2020.1 in c:\\users\\yusuf\\appdata\\local\\anaconda3\\lib\\site-packages (from pandas->FuzzyTM>=0.4.0->gensim) (2022.7)\n",
      "Requirement already satisfied: simpful in c:\\users\\yusuf\\appdata\\local\\anaconda3\\lib\\site-packages (from pyfume->FuzzyTM>=0.4.0->gensim) (2.11.0)\n",
      "Requirement already satisfied: fst-pso in c:\\users\\yusuf\\appdata\\local\\anaconda3\\lib\\site-packages (from pyfume->FuzzyTM>=0.4.0->gensim) (1.8.1)\n",
      "Requirement already satisfied: six>=1.5 in c:\\users\\yusuf\\appdata\\local\\anaconda3\\lib\\site-packages (from python-dateutil>=2.8.2->pandas->FuzzyTM>=0.4.0->gensim) (1.16.0)\n",
      "Requirement already satisfied: miniful in c:\\users\\yusuf\\appdata\\local\\anaconda3\\lib\\site-packages (from fst-pso->pyfume->FuzzyTM>=0.4.0->gensim) (0.0.6)\n",
      "Note: you may need to restart the kernel to use updated packages.\n"
     ]
    }
   ],
   "source": [
    "pip install gensim"
   ]
  },
  {
   "cell_type": "code",
   "execution_count": 14,
   "id": "5d1bb51e",
   "metadata": {},
   "outputs": [
    {
     "name": "stdout",
     "output_type": "stream",
     "text": [
      "Requirement already satisfied: pyLDAvis in c:\\users\\yusuf\\appdata\\roaming\\python\\python310\\site-packages (3.4.1)\n",
      "Requirement already satisfied: numexpr in c:\\users\\yusuf\\appdata\\local\\anaconda3\\lib\\site-packages (from pyLDAvis) (2.8.4)\n",
      "Requirement already satisfied: joblib>=1.2.0 in c:\\users\\yusuf\\appdata\\local\\anaconda3\\lib\\site-packages (from pyLDAvis) (1.3.2)\n",
      "Requirement already satisfied: numpy>=1.24.2 in c:\\users\\yusuf\\appdata\\local\\anaconda3\\lib\\site-packages (from pyLDAvis) (1.26.0)\n",
      "Requirement already satisfied: scikit-learn>=1.0.0 in c:\\users\\yusuf\\appdata\\local\\anaconda3\\lib\\site-packages (from pyLDAvis) (1.2.1)\n",
      "Requirement already satisfied: scipy in c:\\users\\yusuf\\appdata\\local\\anaconda3\\lib\\site-packages (from pyLDAvis) (1.10.0)\n",
      "Requirement already satisfied: setuptools in c:\\users\\yusuf\\appdata\\local\\anaconda3\\lib\\site-packages (from pyLDAvis) (65.6.3)\n",
      "Requirement already satisfied: gensim in c:\\users\\yusuf\\appdata\\local\\anaconda3\\lib\\site-packages (from pyLDAvis) (4.3.0)\n",
      "Requirement already satisfied: funcy in c:\\users\\yusuf\\appdata\\local\\anaconda3\\lib\\site-packages (from pyLDAvis) (2.0)\n",
      "Requirement already satisfied: jinja2 in c:\\users\\yusuf\\appdata\\local\\anaconda3\\lib\\site-packages (from pyLDAvis) (3.1.2)\n",
      "Requirement already satisfied: pandas>=2.0.0 in c:\\users\\yusuf\\appdata\\local\\anaconda3\\lib\\site-packages (from pyLDAvis) (2.1.1)\n",
      "Requirement already satisfied: tzdata>=2022.1 in c:\\users\\yusuf\\appdata\\local\\anaconda3\\lib\\site-packages (from pandas>=2.0.0->pyLDAvis) (2023.3)\n",
      "Requirement already satisfied: pytz>=2020.1 in c:\\users\\yusuf\\appdata\\local\\anaconda3\\lib\\site-packages (from pandas>=2.0.0->pyLDAvis) (2022.7)\n",
      "Requirement already satisfied: python-dateutil>=2.8.2 in c:\\users\\yusuf\\appdata\\local\\anaconda3\\lib\\site-packages (from pandas>=2.0.0->pyLDAvis) (2.8.2)\n",
      "Requirement already satisfied: threadpoolctl>=2.0.0 in c:\\users\\yusuf\\appdata\\local\\anaconda3\\lib\\site-packages (from scikit-learn>=1.0.0->pyLDAvis) (2.2.0)\n",
      "Requirement already satisfied: smart-open>=1.8.1 in c:\\users\\yusuf\\appdata\\local\\anaconda3\\lib\\site-packages (from gensim->pyLDAvis) (5.2.1)\n",
      "Requirement already satisfied: FuzzyTM>=0.4.0 in c:\\users\\yusuf\\appdata\\local\\anaconda3\\lib\\site-packages (from gensim->pyLDAvis) (2.0.5)\n",
      "Requirement already satisfied: MarkupSafe>=2.0 in c:\\users\\yusuf\\appdata\\local\\anaconda3\\lib\\site-packages (from jinja2->pyLDAvis) (2.1.1)\n",
      "Requirement already satisfied: pyfume in c:\\users\\yusuf\\appdata\\local\\anaconda3\\lib\\site-packages (from FuzzyTM>=0.4.0->gensim->pyLDAvis) (0.2.25)\n",
      "Requirement already satisfied: six>=1.5 in c:\\users\\yusuf\\appdata\\local\\anaconda3\\lib\\site-packages (from python-dateutil>=2.8.2->pandas>=2.0.0->pyLDAvis) (1.16.0)\n",
      "Requirement already satisfied: fst-pso in c:\\users\\yusuf\\appdata\\local\\anaconda3\\lib\\site-packages (from pyfume->FuzzyTM>=0.4.0->gensim->pyLDAvis) (1.8.1)\n",
      "Requirement already satisfied: simpful in c:\\users\\yusuf\\appdata\\local\\anaconda3\\lib\\site-packages (from pyfume->FuzzyTM>=0.4.0->gensim->pyLDAvis) (2.11.0)\n",
      "Requirement already satisfied: miniful in c:\\users\\yusuf\\appdata\\local\\anaconda3\\lib\\site-packages (from fst-pso->pyfume->FuzzyTM>=0.4.0->gensim->pyLDAvis) (0.0.6)\n",
      "Note: you may need to restart the kernel to use updated packages.\n"
     ]
    }
   ],
   "source": [
    "pip install pyLDAvis --user"
   ]
  },
  {
   "cell_type": "code",
   "execution_count": 26,
   "id": "cfe554e1",
   "metadata": {},
   "outputs": [],
   "source": [
    "import numpy as np\n",
    "import gensim\n",
    "import gensim.corpora as corpora\n",
    "from gensim.models import LdaModel\n",
    "from gensim import models, corpora\n",
    "import pyLDAvis\n",
    "import pyLDAvis.gensim_models as gensimvis\n",
    "import nltk\n",
    "from nltk.corpus import stopwords\n",
    "from nltk.tokenize import word_tokenize\n",
    "from nltk.stem import WordNetLemmatizer\n",
    "from collections import Counter"
   ]
  },
  {
   "cell_type": "code",
   "execution_count": 14,
   "id": "5da6e0d9",
   "metadata": {},
   "outputs": [],
   "source": [
    "\n",
    "stop_words = set(stopwords.words('english'))\n",
    "lemmatizer = WordNetLemmatizer()"
   ]
  },
  {
   "cell_type": "code",
   "execution_count": 15,
   "id": "6c54fa69",
   "metadata": {},
   "outputs": [],
   "source": [
    "def preprocess_text(text):\n",
    "    tokens = word_tokenize(text.lower())\n",
    "    tokens = [lemmatizer.lemmatize(token) for token in tokens if token.isalpha() and token not in stop_words]\n",
    "    return tokens"
   ]
  },
  {
   "cell_type": "code",
   "execution_count": 16,
   "id": "7b3a2e7f",
   "metadata": {},
   "outputs": [],
   "source": [
    "df['processed_text'] = df['reviews'].apply(preprocess_text)"
   ]
  },
  {
   "cell_type": "code",
   "execution_count": 17,
   "id": "a0827b42",
   "metadata": {},
   "outputs": [],
   "source": [
    "id2word = corpora.Dictionary(df['processed_text'])\n",
    "\n",
    "corpus = [id2word.doc2bow(text) for text in df['processed_text']]"
   ]
  },
  {
   "cell_type": "code",
   "execution_count": 18,
   "id": "4b36be38",
   "metadata": {},
   "outputs": [],
   "source": [
    "num_topics = 5\n",
    "\n",
    "lda_model = LdaModel(corpus=corpus,\n",
    "                     id2word=id2word,\n",
    "                     num_topics=num_topics,\n",
    "                     random_state=42,\n",
    "                     passes=10,\n",
    "                     alpha='auto')\n"
   ]
  },
  {
   "cell_type": "code",
   "execution_count": 24,
   "id": "90b5b434",
   "metadata": {},
   "outputs": [],
   "source": [
    "top_n = 5 \n",
    "\n",
    "topic_labels = []\n",
    "for topic_id in range(num_topics):\n",
    "    topic_terms = lda_model.get_topic_terms(topic_id, topn=top_n)\n",
    "    topic_labels.append([id2word[term_id] for term_id, _ in topic_terms])\n",
    "\n",
    "topic_labels_df = pd.DataFrame({'Topic': range(num_topics), 'Labels': topic_labels})"
   ]
  },
  {
   "cell_type": "code",
   "execution_count": 25,
   "id": "145b7b96",
   "metadata": {},
   "outputs": [
    {
     "data": {
      "text/html": [
       "\n",
       "<link rel=\"stylesheet\" type=\"text/css\" href=\"https://cdn.jsdelivr.net/gh/bmabey/pyLDAvis@3.4.0/pyLDAvis/js/ldavis.v1.0.0.css\">\n",
       "\n",
       "\n",
       "<div id=\"ldavis_el196425264049178725090114028\" style=\"background-color:white;\"></div>\n",
       "<script type=\"text/javascript\">\n",
       "\n",
       "var ldavis_el196425264049178725090114028_data = {\"mdsDat\": {\"x\": [-0.004454016485711288, 0.0038981049707478175, 0.0007773732933705558, -0.0017854476156203944, 0.0015639858372133047], \"y\": [0.0022412911337088186, -0.00040902262252982054, 0.0016255995960194336, -0.004693784794708817, 0.0012359166875103827], \"topics\": [1, 2, 3, 4, 5], \"cluster\": [1, 1, 1, 1, 1], \"Freq\": [20.12439834671533, 20.114986953089264, 20.01467740237019, 19.97341634099697, 19.772520956828245]}, \"tinfo\": {\"Term\": [\"food\", \"seat\", \"service\", \"flight\", \"club\", \"london\", \"lounge\", \"british\", \"good\", \"airway\", \"ba\", \"check\", \"crew\", \"class\", \"economy\", \"customer\", \"drink\", \"cabin\", \"business\", \"first\", \"u\", \"heathrow\", \"get\", \"luggage\", \"next\", \"verified\", \"room\", \"comfortable\", \"experience\", \"airline\", \"ruined\", \"centre\", \"assistance\", \"hotel\", \"cancelled\", \"telephone\", \"claim\", \"wedding\", \"receive\", \"seafood\", \"canceled\", \"driver\", \"outrageous\", \"heard\", \"man\", \"supervisor\", \"confirmation\", \"vueling\", \"call\", \"talk\", \"customer\", \"luggage\", \"star\", \"reply\", \"refunded\", \"week\", \"major\", \"rotterdam\", \"prague\", \"long\", \"different\", \"rome\", \"refund\", \"u\", \"alternative\", \"night\", \"via\", \"email\", \"city\", \"travel\", \"flight\", \"class\", \"people\", \"see\", \"london\", \"time\", \"told\", \"change\", \"get\", \"ba\", \"airway\", \"way\", \"screen\", \"year\", \"review\", \"could\", \"one\", \"minute\", \"british\", \"like\", \"airline\", \"economy\", \"meal\", \"verified\", \"would\", \"seat\", \"food\", \"hour\", \"cabin\", \"service\", \"staff\", \"bag\", \"good\", \"crew\", \"trip\", \"heathrow\", \"first\", \"business\", \"food\", \"next\", \"apart\", \"offering\", \"packed\", \"extra\", \"alcohol\", \"wider\", \"cup\", \"handed\", \"worth\", \"cheese\", \"constantly\", \"yes\", \"san\", \"product\", \"second\", \"know\", \"old\", \"wifi\", \"milk\", \"shared\", \"comfortable\", \"smiley\", \"horror\", \"town\", \"called\", \"surprisingly\", \"coach\", \"older\", \"enough\", \"efficient\", \"seat\", \"boarding\", \"back\", \"heathrow\", \"verified\", \"lounge\", \"meal\", \"full\", \"middle\", \"hand\", \"great\", \"airline\", \"nice\", \"club\", \"plane\", \"economy\", \"drink\", \"could\", \"ba\", \"crew\", \"new\", \"british\", \"airway\", \"flight\", \"first\", \"passenger\", \"staff\", \"london\", \"time\", \"hour\", \"good\", \"cabin\", \"would\", \"class\", \"service\", \"one\", \"business\", \"get\", \"sit\", \"policy\", \"room\", \"hostess\", \"fee\", \"confirmed\", \"however\", \"catering\", \"impossible\", \"leather\", \"hr\", \"offer\", \"edge\", \"frequent\", \"dhabi\", \"headrest\", \"stockholm\", \"okay\", \"charging\", \"kiev\", \"request\", \"duration\", \"milan\", \"chinese\", \"sao\", \"disgraceful\", \"ordered\", \"door\", \"grace\", \"charged\", \"business\", \"quite\", \"find\", \"london\", \"quality\", \"take\", \"check\", \"best\", \"due\", \"two\", \"british\", \"class\", \"refund\", \"airway\", \"flight\", \"seat\", \"experience\", \"airline\", \"staff\", \"fly\", \"trip\", \"plane\", \"crew\", \"new\", \"service\", \"hour\", \"heathrow\", \"passenger\", \"get\", \"ba\", \"lounge\", \"good\", \"cabin\", \"time\", \"could\", \"one\", \"economy\", \"would\", \"food\", \"drink\", \"verified\", \"finish\", \"line\", \"club\", \"amazing\", \"south\", \"future\", \"route\", \"hassle\", \"fed\", \"gave\", \"hanging\", \"executive\", \"paphos\", \"pm\", \"professional\", \"orlando\", \"late\", \"talking\", \"acceptable\", \"walked\", \"today\", \"etc\", \"returned\", \"pax\", \"lgw\", \"gripe\", \"short\", \"even\", \"biz\", \"organised\", \"flown\", \"return\", \"first\", \"fast\", \"cabin\", \"lounge\", \"service\", \"found\", \"would\", \"ba\", \"leg\", \"someone\", \"crew\", \"gatwick\", \"really\", \"time\", \"said\", \"review\", \"told\", \"one\", \"flight\", \"business\", \"well\", \"make\", \"staff\", \"bag\", \"heathrow\", \"get\", \"minute\", \"good\", \"hour\", \"verified\", \"drink\", \"seat\", \"trip\", \"british\", \"passenger\", \"airway\", \"fly\", \"class\", \"plane\", \"u\", \"airline\", \"london\", \"food\", \"amsterdam\", \"tasty\", \"slept\", \"quick\", \"almost\", \"ipad\", \"uncomfortable\", \"sure\", \"newcastle\", \"boeing\", \"apparently\", \"provide\", \"uk\", \"statement\", \"good\", \"avios\", \"greeted\", \"although\", \"singapore\", \"bassinet\", \"salzburg\", \"lucia\", \"best\", \"give\", \"recommend\", \"modern\", \"check\", \"every\", \"older\", \"sydney\", \"booked\", \"flew\", \"never\", \"service\", \"also\", \"wine\", \"economy\", \"british\", \"food\", \"given\", \"airway\", \"seat\", \"well\", \"experience\", \"breakfast\", \"flight\", \"drink\", \"served\", \"premium\", \"hour\", \"cabin\", \"passenger\", \"one\", \"ba\", \"london\", \"time\", \"verified\", \"first\", \"class\", \"comfortable\", \"crew\", \"would\", \"business\", \"airline\", \"back\", \"staff\", \"meal\", \"fly\", \"trip\", \"heathrow\", \"plane\"], \"Freq\": [1556.0, 3207.0, 1992.0, 5304.0, 721.0, 1491.0, 809.0, 2028.0, 1440.0, 2035.0, 3034.0, 661.0, 1489.0, 1370.0, 1051.0, 631.0, 813.0, 1459.0, 1092.0, 937.0, 753.0, 1148.0, 922.0, 391.0, 378.0, 1108.0, 319.0, 537.0, 650.0, 1164.0, 9.945497487125277, 23.445667883293936, 16.83398828332386, 31.93981191785159, 60.405363424698244, 5.3846886166509895, 24.545811876817204, 8.23284856674643, 16.339230805435676, 3.396728388051425, 6.580446249252926, 3.264294076824746, 4.50661174247105, 10.854864242309496, 14.35157158226107, 10.277074050866572, 7.784834294716097, 5.921157370683193, 82.11498472201957, 9.188506285491487, 185.53840483769844, 114.42660441405717, 10.086561844133403, 15.864338217275643, 8.6065820414926, 49.99032904349849, 14.199718016167093, 3.487328818485381, 5.540386242269565, 145.63569262563988, 47.87868054666624, 26.669873543710935, 49.82399197734697, 207.39115201210907, 20.91968027988854, 44.27216275689174, 96.68740031377523, 35.48102768192059, 22.726084314386828, 77.04396247924502, 1256.7303633546187, 345.2498276741669, 91.39136109849277, 54.706975396990025, 351.58782139521105, 394.69132838722055, 135.73212666253053, 52.866689898194515, 218.41937996184396, 642.9082602525251, 430.3946948275265, 116.45819427776519, 91.37221421682708, 112.48556872873, 149.92202162360994, 178.45227314531218, 239.82458346051058, 128.79917002346977, 377.2145246649073, 112.97175856440045, 233.26495577427124, 214.33228425217555, 168.56065342677587, 218.88010327024372, 219.26865575597233, 477.52867914292915, 264.928259703798, 219.8629138807988, 244.05045294931912, 294.6329433579034, 194.39504750305557, 135.22797634706447, 218.2241052619603, 220.79295897451814, 159.8098119658131, 188.58131419650303, 162.68882166824878, 165.77551043071475, 502.49030657739604, 115.81274509407086, 29.26975753271984, 45.348654563359, 16.53622598484438, 100.74203818920196, 7.986541832382115, 9.148524430944297, 21.38611581575825, 8.709391917927467, 43.57662631240074, 36.9196508937002, 11.098024670793517, 17.436875341321663, 19.04953338228299, 65.99334446938983, 42.768254347520816, 51.56678732645568, 122.21955962286997, 14.593583991530895, 4.627818692686032, 9.2272849274862, 149.36889350293404, 2.749635851303391, 4.128153678413805, 20.459291234165438, 43.76044727936009, 8.828821244049628, 10.090765024009693, 22.99715212283942, 62.72518526038152, 65.70181395540335, 845.757002030095, 192.3434734937204, 178.973024676726, 296.5831381639948, 285.74235937885516, 206.28335196829963, 203.0362444794515, 102.82639330625699, 56.88307461261143, 36.45100942841057, 111.68002120814319, 275.011782180678, 102.09908161800061, 172.50156387285602, 196.02265198195244, 241.91138648874647, 190.5703151657597, 190.4506033203869, 613.0241655311953, 323.26805442502, 140.17125254990793, 398.8997816194569, 389.0463555142681, 840.6594095936682, 201.43398901744274, 198.41235684033833, 224.935176030236, 280.74308657690773, 308.7588519623939, 236.69645390101957, 263.1502121773744, 259.29313315157, 219.7503005555097, 240.88376197379876, 295.77629253688445, 211.17463050252064, 201.24152956576066, 190.6136514173555, 35.82786424687467, 19.170158197349036, 94.34510098866747, 7.108165144357509, 19.531704116419824, 10.221739351548882, 113.18652943576868, 21.667668415687007, 18.124561926140668, 9.176182508809642, 14.826218611052205, 76.45343134715013, 5.697717534083212, 20.09443891030856, 7.046691049890795, 5.8702057690825225, 5.528172926366961, 38.87466561144277, 10.47482996471773, 3.2797148237396674, 23.452457943577453, 5.866101557509145, 6.320180617444543, 2.905530620000029, 3.2152427053056365, 5.3209230196560044, 11.413994924772666, 14.256081487163307, 5.471723771243421, 10.185508969362258, 284.72537070791327, 83.43225285885046, 68.81080965299307, 384.8477003894426, 80.47348796427441, 93.887865095653, 169.21583269628033, 64.69457677747255, 100.3035020368538, 106.8836754400349, 480.31347529579074, 328.46125113495197, 45.16389195999534, 476.7243280368135, 1174.540800139163, 725.9086079760079, 157.91614747491812, 272.5178960958823, 254.9429392834111, 152.57151626280748, 196.09996205345576, 193.7642078598678, 331.0368238809065, 142.02801650800737, 408.43080821625625, 263.21338487241707, 247.21666498090343, 200.93021237796398, 199.09484342575206, 535.7100655312818, 176.08191215129642, 279.2131655813859, 279.7027561841032, 295.22406803927583, 171.63281537752442, 218.3118470253649, 198.7568684296508, 197.05091831625015, 232.78142929190943, 166.2274351166849, 165.8580458528852, 7.324743857309523, 52.64199941154325, 221.34147861573683, 13.465093704324422, 18.919775120478306, 27.009520078948228, 88.51958530115117, 8.804919406737005, 7.041883496787368, 45.02338453956471, 5.934442016379798, 16.83423145979811, 2.597306274327008, 5.775615643780071, 51.733021128495785, 6.082137507320632, 100.36436481072683, 9.561933029189316, 18.44894086653167, 8.570213443713614, 13.943825084182228, 37.28047336509204, 17.125154350141923, 5.018250082610739, 14.696973938611578, 8.671266489200868, 81.1879046807235, 172.0100872922064, 5.305538094507615, 9.84789307356699, 58.676732668175006, 207.2259701016839, 247.97216690485064, 47.918801123499954, 378.434657231301, 212.22214167685127, 503.23998989561625, 64.5773940326075, 286.36525044039, 745.1207927424127, 120.20140881202131, 32.48206948934401, 362.42810548226646, 94.3626307272142, 116.16695240723737, 386.7843515584104, 76.54043660952831, 156.95485139809077, 128.46690599082953, 256.7109961552493, 1006.8546349501643, 241.51139397929856, 111.56270211903198, 89.19867692277853, 230.98992153336772, 141.979953713466, 237.6543904676594, 197.3849999468549, 129.72306635333334, 281.698615917823, 244.48156438695395, 218.28729759458685, 172.43028026078431, 484.1673655315149, 167.66220577873682, 291.3218066860188, 177.73885100320135, 283.57189171248194, 140.22370519305895, 210.5327425677373, 159.98212477339763, 152.69599362104148, 180.0665722202887, 194.89225371810838, 194.50724587741374, 21.753944575298526, 26.607652955818025, 10.203937805535693, 51.96315316419674, 57.444340169783324, 5.137574473696976, 51.080935096303826, 29.62809081702151, 9.608843684838089, 60.908206838767285, 14.768430403002084, 24.397641355867986, 26.814456176655746, 3.563466908723318, 398.4851632852379, 26.841540401755204, 12.909036460435777, 86.92414723475024, 46.17829506845699, 5.55718340230022, 4.654388161471001, 8.03616902742702, 67.78462816446626, 41.56928820393675, 29.376502111791137, 9.080157418075624, 178.60306911246428, 43.027528620085874, 22.434607766388655, 15.031427548207233, 90.9422321091251, 109.1726883655563, 87.74331015666216, 490.44575302517194, 107.71357370628316, 62.28972448623422, 259.45717033443196, 480.50184051527793, 361.9835566303916, 96.26840974971293, 455.3589083388319, 674.425561614875, 112.70276091811671, 153.52319785258095, 100.96310109625922, 1025.7232012610596, 185.58748110366048, 115.13041000600242, 110.08453259977725, 256.4281227653669, 298.45046799261166, 201.3378106024383, 229.98297804543645, 497.9026833263807, 279.14417911187184, 307.1118110190486, 219.4082717113021, 187.98011430193213, 245.85387807776667, 122.36738881602318, 251.50136170611157, 205.6166276687102, 199.01108898807757, 203.3997317648199, 142.13403162060115, 193.2461740226124, 156.07760353757644, 135.84795234158904, 155.27291900509127, 178.8629876523449, 150.86649129562142], \"Total\": [1556.0, 3207.0, 1992.0, 5304.0, 721.0, 1491.0, 809.0, 2028.0, 1440.0, 2035.0, 3034.0, 661.0, 1489.0, 1370.0, 1051.0, 631.0, 813.0, 1459.0, 1092.0, 937.0, 753.0, 1148.0, 922.0, 391.0, 378.0, 1108.0, 319.0, 537.0, 650.0, 1164.0, 30.446611585147867, 73.03869906101824, 53.91932941253271, 103.28729038991439, 195.7217154415186, 17.530638518801613, 80.275976236702, 27.049380800223105, 53.79514480781786, 11.200622346888716, 21.7400740446972, 10.840673738503604, 15.000091147798843, 36.28858058492615, 48.265784870364755, 34.572685416305276, 26.22183244984928, 19.975695649573165, 277.1324816234089, 31.26718034089179, 631.3624283671977, 391.0815873856229, 34.62345888889244, 54.56761960219032, 29.644545010432402, 172.66890751560015, 49.114524515849816, 12.069560064898592, 19.179449485708773, 504.5642854378241, 166.7741287055417, 92.43899369950243, 174.20061882581302, 753.1269792872507, 73.06390535724945, 158.69174439373194, 360.4022449403226, 126.90429471279882, 79.98140154791473, 285.8262025298173, 5304.5084092986735, 1370.9814614284217, 341.63245625771424, 201.23511075712582, 1491.2150411915416, 1692.5704109663493, 537.8021764848955, 197.4276254613319, 922.1625173369896, 3034.6659673837958, 2035.096178429922, 477.90343025968, 370.16014529803243, 470.1845512955197, 661.08966284606, 814.6568154076364, 1156.0050351890818, 561.0015102018577, 2028.2514287814518, 480.2338169965973, 1164.2609380359402, 1051.5397022189459, 798.3019070459957, 1108.176077807873, 1128.0517527368324, 3207.787216295422, 1556.6907980809087, 1220.6824398065562, 1459.931467508905, 1992.5257870318324, 1098.5092583726828, 622.1986536657964, 1440.7712622237814, 1489.0273044688226, 836.48657824024, 1148.8984954614054, 937.1106347508485, 1092.2648936717649, 1556.6907980809087, 378.796037305572, 96.91844447411117, 150.24315638791273, 55.07456775181691, 339.20815220263495, 26.93411696158628, 31.092518916849173, 73.94054542316702, 30.318805579809023, 152.49237569902277, 129.61705826925788, 38.995562869360775, 61.46515730014511, 67.30022607456632, 233.76786417577992, 152.08644241602434, 183.5970704571303, 436.17895021754896, 52.36590223410918, 16.61557331952418, 33.14808684034452, 537.3593601792326, 9.920378947907093, 14.895648306901606, 73.8617534966789, 158.5215778868527, 31.99994723333507, 36.60295361750341, 83.57619835162568, 228.49042963568613, 242.51635519764687, 3207.787216295422, 721.040651287031, 678.9725844643233, 1148.8984954614054, 1108.176077807873, 809.3002675909394, 798.3019070459957, 394.7043665101187, 214.70942751972294, 134.88394042620735, 444.6557566407232, 1164.2609380359402, 408.45182186990064, 721.8692893924249, 829.5002621803119, 1051.5397022189459, 813.7531697848926, 814.6568154076364, 3034.6659673837958, 1489.0273044688226, 594.6521744284778, 2028.2514287814518, 2035.096178429922, 5304.5084092986735, 937.1106347508485, 924.0867213690108, 1098.5092583726828, 1491.2150411915416, 1692.5704109663493, 1220.6824398065562, 1440.7712622237814, 1459.931467508905, 1128.0517527368324, 1370.9814614284217, 1992.5257870318324, 1156.0050351890818, 1092.2648936717649, 922.1625173369896, 114.42430600667154, 62.84215260346576, 319.2728259844968, 24.41601568255616, 67.41096861698843, 35.33343353245529, 392.11642432692213, 75.17913731972125, 62.978000882663295, 31.88663391674104, 52.01005698779191, 269.7036141242818, 20.29467521155696, 71.84471619716231, 25.258179421217022, 21.169128317265283, 19.93763434711089, 142.0067405279912, 38.28594087352852, 11.989914173069568, 86.2037175428097, 21.5857270232588, 23.259393210032023, 10.766019885164653, 11.997805734673161, 19.927767451658887, 43.2128951035443, 54.0406363717319, 20.76611030181521, 38.665686608059474, 1092.2648936717649, 317.19531239530147, 261.3132986703442, 1491.2150411915416, 306.9803364338103, 358.72514642736854, 661.1332503711011, 248.95797947873973, 395.146603645886, 422.7276140099779, 2028.2514287814518, 1370.9814614284217, 174.20061882581302, 2035.096178429922, 5304.5084092986735, 3207.787216295422, 650.3688229914756, 1164.2609380359402, 1098.5092583726828, 632.8457876092783, 836.48657824024, 829.5002621803119, 1489.0273044688226, 594.6521744284778, 1992.5257870318324, 1220.6824398065562, 1148.8984954614054, 924.0867213690108, 922.1625173369896, 3034.6659673837958, 809.3002675909394, 1440.7712622237814, 1459.931467508905, 1692.5704109663493, 814.6568154076364, 1156.0050351890818, 1051.5397022189459, 1128.0517527368324, 1556.6907980809087, 813.7531697848926, 1108.176077807873, 23.24664848246373, 169.09544012651207, 721.8692893924249, 44.15367523029947, 63.168449852201746, 92.01398639432719, 303.9826294742602, 30.2970667546585, 24.463845779358167, 157.32390089530048, 20.78373079679772, 59.06325451118802, 9.124937561618601, 20.47248941729508, 183.590137946607, 21.625386199353578, 356.9708600956487, 34.08693241943057, 65.77577099605026, 30.742929866271894, 50.03834224066176, 134.0056790062789, 62.04678626441219, 18.307900770717975, 53.957357833503835, 31.901433102418483, 298.871094924889, 633.5565688969656, 19.628754610994488, 36.5191393352615, 217.96497950302205, 780.5643746980547, 937.1106347508485, 178.5773205873242, 1459.931467508905, 809.3002675909394, 1992.5257870318324, 242.28696490362648, 1128.0517527368324, 3034.6659673837958, 465.3104882000343, 120.67506855283581, 1489.0273044688226, 371.40278667058277, 469.0346533831925, 1692.5704109663493, 302.0697445955577, 661.08966284606, 537.8021764848955, 1156.0050351890818, 5304.5084092986735, 1092.2648936717649, 462.74231251069233, 360.48397426707095, 1098.5092583726828, 622.1986536657964, 1148.8984954614054, 922.1625173369896, 561.0015102018577, 1440.7712622237814, 1220.6824398065562, 1108.176077807873, 813.7531697848926, 3207.787216295422, 836.48657824024, 2028.2514287814518, 924.0867213690108, 2035.096178429922, 632.8457876092783, 1370.9814614284217, 829.5002621803119, 753.1269792872507, 1164.2609380359402, 1491.2150411915416, 1556.6907980809087, 68.13993632214354, 83.67480128498482, 33.133485057259534, 172.47758437815713, 193.53656946352208, 17.41041289414703, 175.3482936709287, 102.60943614931293, 33.52223927184514, 214.94368619892282, 52.420041348374866, 86.77836930945536, 95.38897012918287, 12.876443267177578, 1440.7712622237814, 97.23450276782384, 46.81109626969247, 315.2729378902676, 168.10271781095415, 20.280087961509107, 16.98916764519295, 29.409833897836357, 248.95797947873973, 153.12170456524206, 108.26440142556174, 33.595503365883864, 661.1332503711011, 159.8566216906264, 83.57619835162568, 56.35564701201511, 342.8479959462446, 421.009204040113, 337.82392319697703, 1992.5257870318324, 420.5265490182018, 239.6384277082778, 1051.5397022189459, 2028.2514287814518, 1556.6907980809087, 383.1049353066588, 2035.096178429922, 3207.787216295422, 462.74231251069233, 650.3688229914756, 410.4845893101174, 5304.5084092986735, 813.7531697848926, 482.23312478913607, 458.80345365277014, 1220.6824398065562, 1459.931467508905, 924.0867213690108, 1156.0050351890818, 3034.6659673837958, 1491.2150411915416, 1692.5704109663493, 1108.176077807873, 937.1106347508485, 1370.9814614284217, 537.3593601792326, 1489.0273044688226, 1128.0517527368324, 1092.2648936717649, 1164.2609380359402, 678.9725844643233, 1098.5092583726828, 798.3019070459957, 632.8457876092783, 836.48657824024, 1148.8984954614054, 829.5002621803119], \"Category\": [\"Default\", \"Default\", \"Default\", \"Default\", \"Default\", \"Default\", \"Default\", \"Default\", \"Default\", \"Default\", \"Default\", \"Default\", \"Default\", \"Default\", \"Default\", \"Default\", \"Default\", \"Default\", \"Default\", \"Default\", \"Default\", \"Default\", \"Default\", \"Default\", \"Default\", \"Default\", \"Default\", \"Default\", \"Default\", \"Default\", \"Topic1\", \"Topic1\", \"Topic1\", \"Topic1\", \"Topic1\", \"Topic1\", \"Topic1\", \"Topic1\", \"Topic1\", \"Topic1\", \"Topic1\", \"Topic1\", \"Topic1\", \"Topic1\", \"Topic1\", \"Topic1\", \"Topic1\", \"Topic1\", \"Topic1\", \"Topic1\", \"Topic1\", \"Topic1\", \"Topic1\", \"Topic1\", \"Topic1\", \"Topic1\", \"Topic1\", \"Topic1\", \"Topic1\", \"Topic1\", \"Topic1\", \"Topic1\", \"Topic1\", \"Topic1\", \"Topic1\", \"Topic1\", \"Topic1\", \"Topic1\", \"Topic1\", \"Topic1\", \"Topic1\", \"Topic1\", \"Topic1\", \"Topic1\", \"Topic1\", \"Topic1\", \"Topic1\", \"Topic1\", \"Topic1\", \"Topic1\", \"Topic1\", \"Topic1\", \"Topic1\", \"Topic1\", \"Topic1\", \"Topic1\", \"Topic1\", \"Topic1\", \"Topic1\", \"Topic1\", \"Topic1\", \"Topic1\", \"Topic1\", \"Topic1\", \"Topic1\", \"Topic1\", \"Topic1\", \"Topic1\", \"Topic1\", \"Topic1\", \"Topic1\", \"Topic1\", \"Topic1\", \"Topic1\", \"Topic1\", \"Topic1\", \"Topic1\", \"Topic1\", \"Topic2\", \"Topic2\", \"Topic2\", \"Topic2\", \"Topic2\", \"Topic2\", \"Topic2\", \"Topic2\", \"Topic2\", \"Topic2\", \"Topic2\", \"Topic2\", \"Topic2\", \"Topic2\", \"Topic2\", \"Topic2\", \"Topic2\", \"Topic2\", \"Topic2\", \"Topic2\", \"Topic2\", \"Topic2\", \"Topic2\", \"Topic2\", \"Topic2\", \"Topic2\", \"Topic2\", \"Topic2\", \"Topic2\", \"Topic2\", \"Topic2\", \"Topic2\", \"Topic2\", \"Topic2\", \"Topic2\", \"Topic2\", \"Topic2\", \"Topic2\", \"Topic2\", \"Topic2\", \"Topic2\", \"Topic2\", \"Topic2\", \"Topic2\", \"Topic2\", \"Topic2\", \"Topic2\", \"Topic2\", \"Topic2\", \"Topic2\", \"Topic2\", \"Topic2\", \"Topic2\", \"Topic2\", \"Topic2\", \"Topic2\", \"Topic2\", \"Topic2\", \"Topic2\", \"Topic2\", \"Topic2\", \"Topic2\", \"Topic2\", \"Topic2\", \"Topic2\", \"Topic2\", \"Topic2\", \"Topic2\", \"Topic2\", \"Topic2\", \"Topic3\", \"Topic3\", \"Topic3\", \"Topic3\", \"Topic3\", \"Topic3\", \"Topic3\", \"Topic3\", \"Topic3\", \"Topic3\", \"Topic3\", \"Topic3\", \"Topic3\", \"Topic3\", \"Topic3\", \"Topic3\", \"Topic3\", \"Topic3\", \"Topic3\", \"Topic3\", \"Topic3\", \"Topic3\", \"Topic3\", \"Topic3\", \"Topic3\", \"Topic3\", \"Topic3\", \"Topic3\", \"Topic3\", \"Topic3\", \"Topic3\", \"Topic3\", \"Topic3\", \"Topic3\", \"Topic3\", \"Topic3\", \"Topic3\", \"Topic3\", \"Topic3\", \"Topic3\", \"Topic3\", \"Topic3\", \"Topic3\", \"Topic3\", \"Topic3\", \"Topic3\", \"Topic3\", \"Topic3\", \"Topic3\", \"Topic3\", \"Topic3\", \"Topic3\", \"Topic3\", \"Topic3\", \"Topic3\", \"Topic3\", \"Topic3\", \"Topic3\", \"Topic3\", \"Topic3\", \"Topic3\", \"Topic3\", \"Topic3\", \"Topic3\", \"Topic3\", \"Topic3\", \"Topic3\", \"Topic3\", \"Topic3\", \"Topic3\", \"Topic3\", \"Topic4\", \"Topic4\", \"Topic4\", \"Topic4\", \"Topic4\", \"Topic4\", \"Topic4\", \"Topic4\", \"Topic4\", \"Topic4\", \"Topic4\", \"Topic4\", \"Topic4\", \"Topic4\", \"Topic4\", \"Topic4\", \"Topic4\", \"Topic4\", \"Topic4\", \"Topic4\", \"Topic4\", \"Topic4\", \"Topic4\", \"Topic4\", \"Topic4\", \"Topic4\", \"Topic4\", \"Topic4\", \"Topic4\", \"Topic4\", \"Topic4\", \"Topic4\", \"Topic4\", \"Topic4\", \"Topic4\", \"Topic4\", \"Topic4\", \"Topic4\", \"Topic4\", \"Topic4\", \"Topic4\", \"Topic4\", \"Topic4\", \"Topic4\", \"Topic4\", \"Topic4\", \"Topic4\", \"Topic4\", \"Topic4\", \"Topic4\", \"Topic4\", \"Topic4\", \"Topic4\", \"Topic4\", \"Topic4\", \"Topic4\", \"Topic4\", \"Topic4\", \"Topic4\", \"Topic4\", \"Topic4\", \"Topic4\", \"Topic4\", \"Topic4\", \"Topic4\", \"Topic4\", \"Topic4\", \"Topic4\", \"Topic4\", \"Topic4\", \"Topic4\", \"Topic4\", \"Topic4\", \"Topic4\", \"Topic4\", \"Topic5\", \"Topic5\", \"Topic5\", \"Topic5\", \"Topic5\", \"Topic5\", \"Topic5\", \"Topic5\", \"Topic5\", \"Topic5\", \"Topic5\", \"Topic5\", \"Topic5\", \"Topic5\", \"Topic5\", \"Topic5\", \"Topic5\", \"Topic5\", \"Topic5\", \"Topic5\", \"Topic5\", \"Topic5\", \"Topic5\", \"Topic5\", \"Topic5\", \"Topic5\", \"Topic5\", \"Topic5\", \"Topic5\", \"Topic5\", \"Topic5\", \"Topic5\", \"Topic5\", \"Topic5\", \"Topic5\", \"Topic5\", \"Topic5\", \"Topic5\", \"Topic5\", \"Topic5\", \"Topic5\", \"Topic5\", \"Topic5\", \"Topic5\", \"Topic5\", \"Topic5\", \"Topic5\", \"Topic5\", \"Topic5\", \"Topic5\", \"Topic5\", \"Topic5\", \"Topic5\", \"Topic5\", \"Topic5\", \"Topic5\", \"Topic5\", \"Topic5\", \"Topic5\", \"Topic5\", \"Topic5\", \"Topic5\", \"Topic5\", \"Topic5\", \"Topic5\", \"Topic5\", \"Topic5\", \"Topic5\", \"Topic5\", \"Topic5\", \"Topic5\"], \"logprob\": [30.0, 29.0, 28.0, 27.0, 26.0, 25.0, 24.0, 23.0, 22.0, 21.0, 20.0, 19.0, 18.0, 17.0, 16.0, 15.0, 14.0, 13.0, 12.0, 11.0, 10.0, 9.0, 8.0, 7.0, 6.0, 5.0, 4.0, 3.0, 2.0, 1.0, -8.5316, -7.6741, -8.0054, -7.3649, -6.7277, -9.1452, -7.6282, -8.7206, -8.0352, -9.6059, -8.9447, -9.6457, -9.3232, -8.4441, -8.1649, -8.4988, -8.7766, -9.0502, -6.4206, -8.6108, -5.6055, -6.0888, -8.5176, -8.0647, -8.6762, -6.9169, -8.1755, -9.5796, -9.1167, -5.8477, -6.9601, -7.5452, -6.9203, -5.4942, -7.7881, -7.0384, -6.2573, -7.2598, -7.7052, -6.4844, -3.6925, -4.9845, -6.3136, -6.8268, -4.9663, -4.8507, -5.9181, -6.861, -5.4423, -4.3628, -4.7641, -6.0712, -6.3138, -6.1059, -5.8186, -5.6444, -5.3489, -5.9705, -4.8959, -6.1016, -5.3766, -5.4612, -5.7015, -5.4402, -5.4385, -4.6601, -5.2493, -5.4358, -5.3314, -5.143, -5.5589, -5.9218, -5.4432, -5.4315, -5.7548, -5.5892, -5.7369, -5.7181, -4.6087, -6.0763, -7.4517, -7.0139, -8.0227, -6.2157, -8.7505, -8.6147, -7.7655, -8.6639, -7.0538, -7.2195, -8.4215, -7.9697, -7.8812, -6.6387, -7.0725, -6.8854, -6.0225, -8.1477, -9.2962, -8.6061, -5.8219, -9.8168, -9.4105, -7.8099, -7.0496, -8.6503, -8.5167, -7.6929, -6.6895, -6.6432, -4.0881, -5.569, -5.6411, -5.136, -5.1732, -5.499, -5.5149, -6.1952, -6.7873, -7.2323, -6.1127, -5.2115, -6.2023, -5.6779, -5.5501, -5.3397, -5.5783, -5.5789, -4.4099, -5.0498, -5.8854, -4.8396, -4.8646, -4.0941, -5.5228, -5.5379, -5.4125, -5.1909, -5.0957, -5.3615, -5.2556, -5.2703, -5.4358, -5.344, -5.1387, -5.4756, -5.5238, -5.578, -7.2446, -7.8699, -6.2763, -8.862, -7.8513, -8.4988, -6.0943, -7.7475, -7.926, -8.6067, -8.1269, -6.4866, -9.0832, -7.8228, -8.8707, -9.0534, -9.1134, -7.1629, -8.4743, -9.6355, -7.6683, -9.0541, -8.9795, -9.7567, -9.6554, -9.1516, -8.3885, -8.1661, -9.1237, -8.5023, -5.1718, -6.3993, -6.5919, -4.8704, -6.4354, -6.2812, -5.6921, -6.6536, -6.2151, -6.1516, -4.6489, -5.0289, -7.013, -4.6564, -3.7547, -4.2359, -5.7612, -5.2156, -5.2823, -5.7957, -5.5447, -5.5567, -5.0211, -5.8673, -4.811, -5.2503, -5.313, -5.5203, -5.5295, -4.5397, -5.6523, -5.1913, -5.1896, -5.1356, -5.6779, -5.4374, -5.5312, -5.5398, -5.3732, -5.7099, -5.7122, -8.83, -6.8577, -5.4215, -8.2211, -7.881, -7.525, -6.338, -8.6459, -8.8694, -7.014, -9.0405, -7.9978, -9.8668, -9.0676, -6.8751, -9.0159, -6.2124, -8.5634, -7.9062, -8.6729, -8.1862, -7.2028, -7.9807, -9.2081, -8.1336, -8.6612, -6.4245, -5.6737, -9.1525, -8.534, -6.7492, -5.4874, -5.3079, -6.9517, -4.8852, -5.4636, -4.6002, -6.6534, -5.164, -4.2077, -6.0321, -7.3405, -4.9284, -6.2741, -6.0662, -4.8634, -6.4834, -5.7653, -5.9656, -5.2733, -3.9066, -5.3343, -6.1066, -6.3304, -5.3789, -5.8655, -5.3504, -5.5361, -5.9558, -5.1804, -5.3221, -5.4354, -5.6712, -4.6388, -5.6993, -5.1468, -5.6409, -5.1738, -5.878, -5.4716, -5.7462, -5.7928, -5.6279, -5.5488, -5.5508, -7.7313, -7.5299, -8.4883, -6.8606, -6.7603, -9.1745, -6.8777, -7.4224, -8.5484, -6.7018, -8.1186, -7.6166, -7.5222, -9.5404, -4.8234, -7.5212, -8.2532, -6.3461, -6.9786, -9.096, -9.2733, -8.7272, -6.5948, -7.0838, -7.4309, -8.605, -5.626, -7.0493, -7.7005, -8.101, -6.3009, -6.1182, -6.3367, -4.6158, -6.1316, -6.6793, -5.2525, -4.6363, -4.9195, -6.244, -4.69, -4.2973, -6.0864, -5.7773, -6.1964, -3.878, -5.5876, -6.0651, -6.1099, -5.2643, -5.1125, -5.5061, -5.3731, -4.6007, -5.1794, -5.0839, -5.4202, -5.5748, -5.3064, -6.0041, -5.2837, -5.4851, -5.5178, -5.4959, -5.8543, -5.5472, -5.7608, -5.8996, -5.7659, -5.6245, -5.7947], \"loglift\": [30.0, 29.0, 28.0, 27.0, 26.0, 25.0, 24.0, 23.0, 22.0, 21.0, 20.0, 19.0, 18.0, 17.0, 16.0, 15.0, 14.0, 13.0, 12.0, 11.0, 10.0, 9.0, 8.0, 7.0, 6.0, 5.0, 4.0, 3.0, 2.0, 1.0, 0.4844, 0.4669, 0.4391, 0.4296, 0.4276, 0.4228, 0.4183, 0.4137, 0.4116, 0.4101, 0.4082, 0.403, 0.4007, 0.3963, 0.3904, 0.3901, 0.3888, 0.3873, 0.3869, 0.3786, 0.3786, 0.3743, 0.3699, 0.3679, 0.3665, 0.3637, 0.3623, 0.3617, 0.3615, 0.3607, 0.3553, 0.3602, 0.3515, 0.3136, 0.3526, 0.3266, 0.2875, 0.3288, 0.345, 0.2922, 0.1632, 0.2242, 0.2847, 0.3008, 0.1584, 0.1473, 0.2264, 0.2856, 0.1629, 0.0514, 0.0496, 0.1914, 0.2042, 0.1729, 0.1195, 0.0848, 0.0304, 0.1318, -0.0789, 0.1561, -0.0044, 0.0128, 0.048, -0.0187, -0.0347, -0.3015, -0.1676, -0.1109, -0.1855, -0.3082, -0.1286, 0.0769, -0.2842, -0.3054, -0.052, -0.2038, -0.1477, -0.2821, 0.473, 0.4187, 0.4064, 0.4058, 0.4006, 0.3897, 0.3881, 0.3803, 0.3632, 0.3563, 0.3511, 0.3479, 0.347, 0.3438, 0.3416, 0.3389, 0.3351, 0.3338, 0.3315, 0.326, 0.3255, 0.3249, 0.3235, 0.3206, 0.3205, 0.3199, 0.3165, 0.316, 0.3152, 0.3133, 0.311, 0.2978, 0.2706, 0.2823, 0.2704, 0.2495, 0.2483, 0.2368, 0.2346, 0.2586, 0.2754, 0.2953, 0.222, 0.1607, 0.2173, 0.1723, 0.1611, 0.1343, 0.1521, 0.1503, 0.0043, 0.0763, 0.1586, -0.0225, -0.0509, -0.2384, 0.0664, 0.0652, 0.0178, -0.0662, -0.0977, -0.0367, -0.0965, -0.1245, -0.0321, -0.1353, -0.3038, -0.0963, -0.0878, 0.0272, 0.4475, 0.4214, 0.3896, 0.3747, 0.3699, 0.3684, 0.3662, 0.3647, 0.3632, 0.3631, 0.3537, 0.3481, 0.3384, 0.3346, 0.3321, 0.3261, 0.326, 0.3132, 0.3126, 0.3124, 0.307, 0.3059, 0.3057, 0.2989, 0.2919, 0.2882, 0.2774, 0.2762, 0.275, 0.2747, 0.2642, 0.2732, 0.2743, 0.2542, 0.2698, 0.2682, 0.2459, 0.2611, 0.2376, 0.2337, 0.1682, 0.1798, 0.2588, 0.1573, 0.101, 0.1228, 0.1932, 0.1566, 0.148, 0.1861, 0.1581, 0.1545, 0.1051, 0.1768, 0.0239, 0.0745, 0.0724, 0.0829, 0.0758, -0.1256, 0.0835, -0.0323, -0.0437, -0.1376, 0.0513, -0.0581, -0.0572, -0.1361, -0.2915, 0.0204, -0.2906, 0.4559, 0.4438, 0.4286, 0.4232, 0.4052, 0.385, 0.377, 0.375, 0.3654, 0.3596, 0.3574, 0.3556, 0.3542, 0.3453, 0.3442, 0.3423, 0.3419, 0.3396, 0.3395, 0.3334, 0.333, 0.3314, 0.3234, 0.3165, 0.3102, 0.3081, 0.3075, 0.307, 0.3025, 0.3002, 0.2985, 0.2846, 0.2813, 0.2953, 0.2607, 0.2722, 0.2347, 0.2885, 0.2398, 0.2065, 0.2572, 0.2984, 0.1977, 0.2406, 0.2151, 0.1346, 0.2379, 0.1728, 0.1789, 0.106, -0.051, 0.1017, 0.1882, 0.2142, 0.0514, 0.1332, 0.035, 0.0692, 0.1464, -0.0213, 0.0027, -0.0139, 0.0591, -0.2801, 0.0035, -0.3297, -0.0377, -0.3601, 0.1038, -0.2629, -0.035, 0.015, -0.2557, -0.4241, -0.4691, 0.4791, 0.4751, 0.4431, 0.4211, 0.4062, 0.4004, 0.3875, 0.3787, 0.3714, 0.3599, 0.3541, 0.352, 0.3519, 0.3362, 0.3356, 0.3337, 0.3327, 0.3325, 0.3288, 0.3263, 0.3261, 0.3235, 0.3199, 0.317, 0.3165, 0.3126, 0.3121, 0.3084, 0.3057, 0.2993, 0.2938, 0.2712, 0.2728, 0.219, 0.2588, 0.2735, 0.2215, 0.1808, 0.1622, 0.2397, 0.1237, 0.0614, 0.2085, 0.1772, 0.2183, -0.0223, 0.1427, 0.1885, 0.1935, 0.0606, 0.0333, 0.0971, 0.0062, -0.1866, -0.0547, -0.0859, 0.0013, 0.0144, -0.0977, 0.1412, -0.1576, -0.0814, -0.0818, -0.1238, 0.0571, -0.1169, -0.0113, 0.0822, -0.0631, -0.2391, -0.0836]}, \"token.table\": {\"Topic\": [1, 2, 3, 4, 5, 1, 2, 3, 4, 5, 1, 2, 3, 4, 5, 1, 2, 3, 4, 5, 1, 2, 3, 4, 5, 1, 2, 3, 4, 5, 1, 2, 3, 4, 5, 1, 2, 3, 4, 5, 1, 2, 3, 4, 5, 1, 2, 3, 4, 5, 1, 2, 3, 4, 5, 1, 2, 3, 4, 5, 1, 2, 3, 4, 5, 1, 2, 3, 4, 5, 1, 2, 3, 4, 5, 1, 2, 3, 4, 5, 1, 2, 3, 4, 5, 1, 2, 3, 4, 5, 1, 2, 3, 4, 5, 1, 2, 3, 4, 5, 1, 2, 3, 4, 5, 1, 2, 3, 4, 5, 1, 2, 3, 4, 5, 1, 2, 3, 4, 5, 1, 2, 3, 4, 5, 1, 2, 3, 4, 5, 1, 2, 3, 4, 5, 1, 2, 3, 4, 5, 1, 2, 3, 4, 5, 1, 2, 3, 4, 5, 1, 2, 3, 4, 5, 1, 2, 3, 4, 5, 1, 2, 3, 4, 5, 1, 2, 3, 4, 5, 1, 2, 3, 4, 5, 1, 2, 3, 4, 5, 1, 2, 3, 4, 5, 1, 2, 3, 4, 5, 1, 2, 3, 4, 5, 1, 2, 3, 4, 5, 1, 2, 3, 4, 5, 1, 2, 3, 4, 5, 1, 2, 3, 4, 5, 1, 2, 3, 4, 5, 1, 2, 3, 4, 5, 1, 2, 3, 4, 5, 1, 2, 3, 4, 5, 1, 2, 3, 4, 5, 1, 2, 3, 4, 5, 1, 2, 3, 4, 5, 1, 2, 3, 4, 5, 1, 2, 3, 4, 5, 1, 2, 3, 4, 5, 1, 2, 3, 4, 5, 1, 2, 3, 4, 5, 1, 2, 3, 4, 5, 1, 2, 3, 4, 5, 1, 2, 3, 4, 5, 1, 2, 3, 4, 5, 1, 2, 3, 4, 5, 1, 2, 3, 4, 5, 1, 2, 3, 4, 5, 1, 2, 3, 4, 5, 1, 2, 3, 4, 5, 1, 2, 3, 4, 5, 1, 2, 3, 4, 5, 1, 2, 3, 4, 5, 1, 2, 3, 4, 5, 1, 2, 3, 4, 5, 1, 2, 3, 4, 5, 1, 2, 3, 4, 5, 1, 2, 3, 4, 5, 1, 2, 3, 4, 5, 1, 2, 3, 4, 5, 1, 2, 3, 4, 5, 1, 2, 3, 4, 5, 1, 2, 3, 4, 5, 1, 2, 3, 4, 5, 1, 2, 3, 4, 5, 1, 2, 3, 4, 5, 1, 2, 3, 4, 5, 1, 2, 3, 4, 5, 1, 2, 3, 4, 5, 1, 2, 3, 4, 5, 1, 2, 3, 4, 5, 1, 2, 3, 4, 5, 1, 2, 3, 4, 5, 1, 2, 3, 4, 5, 1, 2, 3, 4, 5, 1, 2, 3, 4, 5, 1, 2, 3, 4, 5, 1, 2, 3, 4, 5, 1, 2, 3, 4, 5, 1, 2, 3, 4, 5, 1, 2, 3, 4, 5, 1, 2, 3, 4, 5, 1, 2, 3, 4, 5, 1, 2, 3, 4, 5, 1, 2, 3, 4, 5, 1, 2, 3, 4, 5, 1, 2, 3, 4, 5, 1, 2, 3, 4, 5, 1, 2, 3, 4, 5, 1, 2, 3, 4, 5, 1, 2, 3, 4, 5, 1, 2, 3, 4, 5, 1, 2, 3, 4, 5, 1, 2, 3, 4, 5, 1, 2, 3, 4, 5, 1, 2, 3, 4, 5, 1, 2, 3, 4, 5, 1, 2, 3, 4, 5, 1, 2, 3, 4, 5, 1, 2, 3, 4, 5, 1, 2, 3, 4, 5, 1, 2, 3, 4, 5, 1, 2, 3, 4, 5, 1, 2, 3, 4, 5, 1, 2, 3, 4, 5, 1, 2, 3, 4, 5, 1, 2, 3, 4, 5, 1, 2, 3, 4, 5, 1, 2, 3, 4, 5, 1, 2, 3, 4, 5, 1, 2, 3, 4, 5, 1, 2, 3, 4, 5, 1, 2, 3, 4, 5, 1, 2, 3, 4, 5, 1, 2, 3, 4, 5, 1, 2, 3, 4, 5, 1, 2, 3, 4, 5, 1, 2, 3, 4, 5, 1, 2, 3, 4, 5, 1, 2, 3, 4, 5, 1, 2, 3, 4, 5, 1, 2, 3, 4, 5, 1, 2, 3, 4, 5, 1, 2, 3, 4, 5, 1, 2, 3, 4, 5, 1, 2, 3, 4, 5, 1, 2, 3, 4, 5, 1, 2, 3, 4, 5, 1, 2, 3, 4, 5, 1, 2, 3, 4, 5, 1, 2, 3, 4, 5, 1, 2, 3, 4, 5, 1, 2, 3, 4, 5, 1, 2, 3, 4, 5, 1, 2, 3, 4, 5, 1, 2, 3, 4, 5, 1, 2, 3, 4, 5, 1, 2, 3, 4, 5, 1, 2, 3, 4, 5, 1, 2, 3, 4, 5, 1, 2, 3, 4, 5, 1, 2, 3, 4, 5, 1, 2, 3, 4, 5, 1, 2, 3, 4, 5, 1, 2, 3, 4, 5, 1, 2, 3, 4, 5, 1, 2, 3, 4, 5, 1, 2, 3, 4, 5, 1, 2, 3, 4, 5, 1, 2, 3, 4, 5, 1, 2, 3, 4, 5, 1, 2, 3, 4, 5, 1, 2, 3, 4, 5, 1, 2, 3, 4, 5, 1, 2, 3, 4, 5, 1, 2, 3, 4, 5, 1, 2, 3, 4, 5, 1, 2, 3, 4, 5, 1, 2, 3, 4, 5, 1, 2, 3, 4, 5, 1, 2, 3, 4, 5, 1, 2, 3, 4, 5, 1, 2, 3, 4, 5, 1, 2, 3, 4, 5, 1, 2, 3, 4, 5, 1, 2, 3, 4, 5, 1, 2, 3, 4, 5, 1, 2, 3, 4, 5, 1, 2, 3, 4, 5, 1, 2, 3, 4, 5, 1, 2, 3, 4, 5, 1, 2, 3, 4, 5, 1, 2, 3, 4, 5, 1, 2, 3, 4, 5, 1, 2, 3, 4, 5, 1, 2, 3, 4, 5, 1, 2, 3, 4, 5, 1, 2, 3, 4, 5, 1, 2, 3, 4, 5, 1, 2, 3, 4, 5, 1, 2, 3, 4, 5, 1, 2, 3, 4, 5, 1, 2, 3, 4, 5, 1, 2, 3, 4, 5, 1, 2, 3, 4, 5, 1, 2, 3, 4, 5, 1, 2, 3, 4, 5, 1, 2, 3, 4, 5, 1, 2, 3, 4, 5, 1, 2, 3, 4, 5, 1, 2, 3, 4, 5, 1, 2, 3, 4, 5, 1, 2, 3, 4, 5, 1, 2, 3, 4, 5, 1, 2, 3, 4, 5, 1, 2, 3, 4, 5, 1, 2, 3, 4, 5, 1, 2, 3, 4, 5, 1, 2, 3, 4, 5, 1, 2, 3, 4, 5, 1, 2, 3, 4, 5, 1, 2, 3, 4, 5, 1, 2, 3, 4, 5, 1, 2, 3, 4, 5, 1, 2, 3, 4, 5, 1, 2, 3, 4, 5, 1, 2, 3, 4, 5, 1, 2, 3, 4, 5, 1, 2, 3, 4, 5, 1, 2, 3, 4, 5, 1, 2, 3, 4, 5, 1, 2, 3, 4, 5, 1, 2, 3, 4, 5, 1, 2, 3, 4, 5, 1, 2, 3, 4, 5, 1, 2, 3, 4, 5, 1, 2, 3, 4, 5, 1, 2, 3, 4, 5, 1, 2, 3, 4, 5, 1, 2, 3, 4, 5, 1, 2, 3, 4, 5, 1, 2, 3, 4, 5, 1, 2, 3, 4, 5], \"Freq\": [0.21284433140039788, 0.19764116487179803, 0.15203166528599849, 0.2736569975147973, 0.15203166528599849, 0.20012695813110531, 0.236201345433708, 0.2344835174669174, 0.15460451701115432, 0.17435953862924627, 0.21129222518207727, 0.19114575719960014, 0.2343869567717462, 0.13955114407374405, 0.22357665687870967, 0.18563816319395407, 0.2970210611103265, 0.14851053055516325, 0.22276579583274486, 0.18563816319395407, 0.20667928604335023, 0.14467550023034514, 0.15500946453251266, 0.19634532174118272, 0.2945179826117741, 0.16170203797776564, 0.2140174032058663, 0.17121392256469303, 0.19499363403201153, 0.25682088384703955, 0.2874196211839416, 0.2189863780449079, 0.1505531349058742, 0.16423978353368093, 0.17792643216148765, 0.14907717837919407, 0.18713943668877556, 0.20934242070269807, 0.17762387211138017, 0.27595137274446563, 0.1811853703745635, 0.15853719907774308, 0.1811853703745635, 0.2944262268586657, 0.1811853703745635, 0.22013522186291545, 0.11740545166022158, 0.14675681457527698, 0.19078385894786007, 0.3228649920656093, 0.13413339504713737, 0.2992206504897679, 0.21667702276845266, 0.21667702276845266, 0.13413339504713737, 0.19076673239423192, 0.17169005915480873, 0.15261338591538554, 0.2098434056336551, 0.2861500985913479, 0.31528582022848034, 0.16691602247390136, 0.16691602247390136, 0.22255469663186847, 0.1298235730352566, 0.18511947392768932, 0.1645506434912794, 0.1645506434912794, 0.20568830436409924, 0.27767921089153397, 0.21188493458946794, 0.20199916781235436, 0.17662569975109613, 0.24549654163165413, 0.1641037285000856, 0.16937355444289326, 0.2636336195241556, 0.17379199499357742, 0.1841016896118405, 0.2091395193990508, 0.21697250420685255, 0.18000681830494433, 0.17357800336548204, 0.22822293035091157, 0.2009004668581968, 0.19723780328723717, 0.14792835246542788, 0.19723780328723717, 0.19723780328723717, 0.29585670493085575, 0.13656923176830127, 0.2128873318741167, 0.2610882372041054, 0.11648552121413933, 0.27313846353660254, 0.2037826688077049, 0.2037826688077049, 0.15283700160577868, 0.25472833600963113, 0.15283700160577868, 0.19139004126005252, 0.26628179653572526, 0.15671793233612996, 0.19277692561700943, 0.19277692561700943, 0.17213811047121338, 0.17679049183530024, 0.19540001729164763, 0.17679049183530024, 0.28379526320929777, 0.19250513574636202, 0.16333769093630718, 0.1954218802273675, 0.18083815782234008, 0.2654237477714992, 0.19489160393195837, 0.17783858858791202, 0.2022000390794068, 0.17783858858791202, 0.24605064996409745, 0.1858743914340526, 0.1967211728970477, 0.2366570501017115, 0.14347333662416262, 0.23715008562275675, 0.15197778575668885, 0.18402129480177384, 0.2609257165099778, 0.22155797682601627, 0.1821902371420547, 0.16713113281703526, 0.17740558770332843, 0.19178982454413884, 0.25891626313458743, 0.20411917040769062, 0.2958873659256894, 0.14433530045155582, 0.18041912556444478, 0.22371971569991153, 0.1515520654741336, 0.1955569734621664, 0.2775647365269459, 0.17663210506260194, 0.18924868399564493, 0.16401552612955894, 0.32198602385659436, 0.13799401022425473, 0.18399201363233963, 0.18399201363233963, 0.18399201363233963, 0.30655770548837197, 0.15838814783565885, 0.18393462329302318, 0.15327885274418598, 0.1941532134759689, 0.18622187616307578, 0.17292031357999896, 0.2926343768276905, 0.19952343874615264, 0.1596187509969221, 0.31490155623918303, 0.20537058015598894, 0.15060509211439188, 0.17798783613519042, 0.13691372010399264, 0.26845280581253084, 0.1823453020613417, 0.17221500750237828, 0.23299677485615883, 0.14182412382548798, 0.20690179592808472, 0.20690179592808472, 0.2586272449101059, 0.15517634694606355, 0.15517634694606355, 0.20895398722018405, 0.18283473881766105, 0.26119248402523004, 0.15671549041513805, 0.18283473881766105, 0.1663809828627676, 0.14066755823852167, 0.2556216918527975, 0.1663809828627676, 0.2707472357494127, 0.14658564431026247, 0.28545625470945846, 0.1851608138655947, 0.13887061039919602, 0.24688108515412627, 0.1857696735964567, 0.1857696735964567, 0.2786545103946851, 0.1857696735964567, 0.1857696735964567, 0.28756685372937996, 0.21254941362606347, 0.20004650694217738, 0.18754360025829128, 0.12502906683886086, 0.3114256739312011, 0.12457026957248042, 0.16194135044422456, 0.21176945827321672, 0.19931243131596868, 0.2516445405764608, 0.17578647617080306, 0.23924466466399752, 0.15390434220763255, 0.17943349849799814, 0.11913514158828331, 0.23965557552061642, 0.16762037363002652, 0.3061496080350071, 0.16762037363002652, 0.2458817967000409, 0.27320199633337877, 0.16392119780002726, 0.16392119780002726, 0.13660099816668939, 0.1544590197001796, 0.2772818546424911, 0.1544590197001796, 0.18609520445804772, 0.22703614943881825, 0.3050892806709999, 0.11440848025162496, 0.19068080041937494, 0.19068080041937494, 0.19068080041937494, 0.19811264573453347, 0.16981083920102868, 0.2830180653350478, 0.16981083920102868, 0.16981083920102868, 0.2051515457489571, 0.28208337540481604, 0.17950760253033746, 0.15386365931171783, 0.17950760253033746, 0.2184969138335051, 0.2332270428559886, 0.21113184932226337, 0.17307901601418102, 0.16325892999919203, 0.1484190379429186, 0.2169201323781118, 0.222292767235774, 0.2431117273092151, 0.16923799801635966, 0.18934131361727183, 0.28401197042590776, 0.16229255452909014, 0.16229255452909014, 0.20286569316136266, 0.2946009956294441, 0.16789088998237134, 0.22332656120296565, 0.17264251894413657, 0.14096499253236838, 0.1583645413746636, 0.2375468120619954, 0.27713794740566133, 0.1583645413746636, 0.1979556767183295, 0.2878144252502698, 0.1798840157814186, 0.22785308665646356, 0.1499033464845155, 0.1558994803438961, 0.20072494370998994, 0.20072494370998994, 0.25090617963748746, 0.15054370778249246, 0.15054370778249246, 0.20355052676163501, 0.16654134007770136, 0.25906430678753545, 0.16654134007770136, 0.18504593341966818, 0.12165851228102699, 0.23471490753208238, 0.2039930609964695, 0.2113663041650166, 0.2285705382249598, 0.2767355675823619, 0.18449037838824128, 0.18449037838824128, 0.18449037838824128, 0.18449037838824128, 0.20245650414774333, 0.1771494411292754, 0.2530706301846791, 0.23029427346805803, 0.13412743399787994, 0.18530763386797056, 0.2316345423349632, 0.27796145080195583, 0.18530763386797056, 0.18530763386797056, 0.20351109858089036, 0.23013871895596014, 0.18924630195138872, 0.1302851425494485, 0.24630548846939535, 0.14782202566570893, 0.19709603422094527, 0.29564405133141786, 0.19709603422094527, 0.19709603422094527, 0.1690607627950934, 0.2721465937677114, 0.20204822870633116, 0.18143106251180757, 0.17730762927290286, 0.2757983886929093, 0.17335898717840012, 0.16547903321574556, 0.17335898717840012, 0.2048788030290183, 0.1750620367941779, 0.2757227079508302, 0.1838151386338868, 0.21882754599272236, 0.1488027312750512, 0.20894636859896099, 0.1641721467563265, 0.17163451706343222, 0.27610770136291274, 0.17909688737053797, 0.16099588419954985, 0.21781796097586156, 0.18309335850144887, 0.27148325570904486, 0.1657310572642425, 0.1876681721577951, 0.1876681721577951, 0.16264574920342242, 0.19392377789638826, 0.2689910467595063, 0.20317200769434246, 0.16931000641195207, 0.16931000641195207, 0.2878270109003185, 0.18624100705314725, 0.18451068956233294, 0.2029617585185662, 0.24293907459040504, 0.13223266085300525, 0.2367887182716606, 0.18277862603656608, 0.297752277898277, 0.16803841425942365, 0.19162275310285154, 0.16214232954856667, 0.17919408743929505, 0.14559519604442722, 0.16239464174186113, 0.2687911311589426, 0.24079205499655273, 0.16350658993178724, 0.12262994244884044, 0.20438323741473408, 0.2861365323806277, 0.20438323741473408, 0.19284695453439654, 0.13350943006227453, 0.2966876223606101, 0.19284695453439654, 0.19284695453439654, 0.18751437546167601, 0.168380255516607, 0.26405085524195193, 0.1951680234397036, 0.18751437546167601, 0.17206781455044703, 0.17206781455044703, 0.17206781455044703, 0.3011186754632823, 0.17206781455044703, 0.1739389074837862, 0.21448908223460753, 0.1461940510753295, 0.2646432457422023, 0.20061665403037918, 0.18289386374712982, 0.2232730284705221, 0.16626714886102711, 0.16864239384475607, 0.2589017032264565, 0.2369682358871389, 0.15854438057365458, 0.22150968748400016, 0.18983851514586228, 0.1934203739221993, 0.16516414738772686, 0.1835157193196965, 0.19269150528568135, 0.27068568599655235, 0.18810361230268893, 0.14379490514391127, 0.17855850858529643, 0.24176506029690578, 0.22122293099063273, 0.2149022758194718, 0.17023290709156402, 0.32247894098100055, 0.14967648057484687, 0.12526572408624523, 0.23254457497036293, 0.19398484775561492, 0.1981121849419046, 0.16509348745158717, 0.26827691710882917, 0.1774754990104562, 0.19486471296761787, 0.1809458048985023, 0.27837816138231125, 0.15310798876027118, 0.19486471296761787, 0.23815292653366227, 0.2609548024783746, 0.154546048069717, 0.154546048069717, 0.19254917464423757, 0.21735826023545735, 0.11954704312950154, 0.163018695176593, 0.2934336513178674, 0.21735826023545735, 0.2369395253839384, 0.18578212785786077, 0.14808720336496148, 0.25309449302375236, 0.1777046440379538, 0.19068939830042156, 0.21611465140714442, 0.14619520536365652, 0.2860340974506323, 0.15890783191701796, 0.23640084681552437, 0.20712184285213373, 0.21579710328573096, 0.21362828817733165, 0.12687568384135942, 0.16979957265902776, 0.20898408942649568, 0.16979957265902776, 0.18286107824818373, 0.2742916173722756, 0.16183555544741732, 0.2270918278052469, 0.1957688170734887, 0.1670560572360437, 0.2505840858540655, 0.1513078485918191, 0.18254112009013038, 0.19364628328952993, 0.19572850138941736, 0.2762409345850642, 0.1926215329623069, 0.1926215329623069, 0.24077691620288366, 0.1926215329623069, 0.1926215329623069, 0.1551762210868018, 0.25188024292350436, 0.20240376663495885, 0.22264414329845475, 0.16866980552913238, 0.17089965067063695, 0.17089965067063695, 0.19226210700446658, 0.19226210700446658, 0.2777119323397851, 0.1880793248609616, 0.2194258790044552, 0.1880793248609616, 0.2821189872914424, 0.156732770717468, 0.1853445259754779, 0.26689611740468816, 0.1408618397413632, 0.192758307014497, 0.20758586909253524, 0.16491414831096704, 0.2968454669597407, 0.16491414831096704, 0.19789697797316044, 0.16491414831096704, 0.19245822798168197, 0.19245822798168197, 0.19245822798168197, 0.28868734197252294, 0.14434367098626147, 0.19803897349493202, 0.16503247791244333, 0.19803897349493202, 0.297058460242398, 0.16503247791244333, 0.18895440284792683, 0.18895440284792683, 0.2834316042718903, 0.18895440284792683, 0.18895440284792683, 0.30312566164600196, 0.16534126998872833, 0.16534126998872833, 0.19289814832018307, 0.16534126998872833, 0.1645053942942943, 0.2585084767481768, 0.21498853116767563, 0.20715494096318543, 0.15580140517819407, 0.2014011030731713, 0.26853480409756175, 0.2014011030731713, 0.13426740204878088, 0.2014011030731713, 0.16382689346230106, 0.16382689346230106, 0.28669706355902685, 0.16382689346230106, 0.20478361682787632, 0.3098154659609957, 0.1258625330466545, 0.1839529329143412, 0.1839529329143412, 0.1936346662256223, 0.18022705400338504, 0.19415368999455568, 0.21545325092222847, 0.19988818716739068, 0.2097187537493935, 0.19637024930075925, 0.16321683058764405, 0.288179716506309, 0.17086761952143986, 0.1785184084552357, 0.1922705064973733, 0.1922705064973733, 0.2884057597460599, 0.15381640519789863, 0.17304345584763595, 0.14290704490236586, 0.15878560544707318, 0.2858140898047317, 0.1905427265364878, 0.22229984762590244, 0.17231067512525963, 0.17231067512525963, 0.17231067512525963, 0.17231067512525963, 0.2871844585420994, 0.16680686543129566, 0.16680686543129566, 0.2502102981469435, 0.16680686543129566, 0.16680686543129566, 0.19608156007263722, 0.2832289201049204, 0.15250788005649563, 0.1416144600524602, 0.2287618200847434, 0.23251197584520075, 0.16808094639412102, 0.16808094639412102, 0.28013491065686835, 0.14847150264814024, 0.15680551334002404, 0.15680551334002404, 0.28224992401204324, 0.18816661600802884, 0.18816661600802884, 0.16548090350995515, 0.22135757222760236, 0.18697192993981945, 0.2578923171583717, 0.16763000615294157, 0.20386468948206635, 0.1482652287142301, 0.18533153589278759, 0.2779973038391814, 0.20386468948206635, 0.23530204662950813, 0.23738436562622942, 0.2165611756590163, 0.1707501577311475, 0.14159769177704912, 0.15375932065671072, 0.15967314068196883, 0.1360178605809364, 0.3134324613386796, 0.2365528010103242, 0.2360491212043688, 0.1884369405068967, 0.2581787263172784, 0.13076584839446567, 0.1870957523182355, 0.2893585697872212, 0.15855264097929928, 0.1942269851996416, 0.16251645700378176, 0.19620889321188284, 0.14456933314538037, 0.2545408771619518, 0.217471817381085, 0.26195468911812514, 0.11985662662480254, 0.13600892864254752, 0.17001116080318437, 0.17001116080318437, 0.23801562512445815, 0.27201785728509503, 0.2914992770743543, 0.16109170575161685, 0.12017952651311098, 0.22501698581178226, 0.20200388499012273, 0.28504806140354755, 0.2036057581453911, 0.183245182330852, 0.1628846065163129, 0.1628846065163129, 0.15534671163637195, 0.235794115876636, 0.16644290532468425, 0.24689030956494828, 0.19418338954546494, 0.29006054781046386, 0.20718610557890277, 0.16574888446312222, 0.20718610557890277, 0.12431166334734166, 0.21169935648201169, 0.25428975956123295, 0.17913022471554835, 0.1603403410041272, 0.19541479059878003, 0.19561320844256797, 0.2654750686006279, 0.1630110070354733, 0.21890049516192128, 0.1630110070354733, 0.2149669148653219, 0.1719735318922575, 0.25796029783838625, 0.1719735318922575, 0.1719735318922575, 0.1805535049744471, 0.3009225082907452, 0.1805535049744471, 0.1805535049744471, 0.1805535049744471, 0.22994590505395188, 0.12477684770369482, 0.22103327307511655, 0.23172843144971894, 0.19251285074284344, 0.14882944141499263, 0.20836121798098967, 0.17859532969799113, 0.17859532969799113, 0.26789299454698673, 0.22792938780449584, 0.1628067055746399, 0.2012882905286457, 0.14800609597694536, 0.2604907289194238, 0.18330043122226916, 0.23543174652401544, 0.23879505718864424, 0.14125904791440927, 0.20011698454541313, 0.1491547136649499, 0.17898565639793987, 0.17898565639793987, 0.23864754186391984, 0.2983094273298998, 0.2270351100073004, 0.30623340419589357, 0.15839658837718631, 0.13463710012060837, 0.17423624721490497, 0.14444788060901972, 0.2497234546122036, 0.22279249382069144, 0.21789595549496196, 0.16648230307480238, 0.2772671014998177, 0.17014117592034267, 0.17014117592034267, 0.17014117592034267, 0.20795032612486328, 0.2150508816440001, 0.22988197692979323, 0.2817908104300691, 0.1186487622863449, 0.15572650050082767, 0.15308517574415376, 0.29951447428204, 0.17305280736295645, 0.16639693015668888, 0.2063321933942942, 0.1690060620416065, 0.19717373904854094, 0.2746348508176106, 0.14083838503467208, 0.22534141605547534, 0.14672876801615325, 0.27970171403079214, 0.18570359702044395, 0.15589931601716284, 0.23155633702549186, 0.1555466778388961, 0.2751979684842008, 0.14358154877436566, 0.1555466778388961, 0.26323283941967035, 0.20761155245378704, 0.1825251565322878, 0.18858049347885658, 0.22231737075259697, 0.19896107110154593, 0.16198868377661332, 0.1851299243161295, 0.2545536459346781, 0.1851299243161295, 0.2082711648556457, 0.16429740977511556, 0.21906321303348741, 0.16429740977511556, 0.2738290162918593, 0.1916803114043015, 0.18496779493905952, 0.13872584620429462, 0.23120974367382438, 0.27745169240858925, 0.18496779493905952, 0.33333130783900033, 0.13333252313560012, 0.1999987847034002, 0.1999987847034002, 0.1999987847034002, 0.12710040742478765, 0.30867241803162715, 0.1815720106068395, 0.1815720106068395, 0.19972921166752344, 0.219179581941735, 0.219179581941735, 0.219179581941735, 0.32876937291260255, 0.219179581941735, 0.15799382960909203, 0.2142656045383577, 0.21751205309196917, 0.19262261418094784, 0.21751205309196917, 0.21848490714990548, 0.21848490714990548, 0.16386368036242913, 0.27310613393738187, 0.16386368036242913, 0.2663681343301678, 0.13757475069799877, 0.2078256872246364, 0.17562734131659416, 0.2078256872246364, 0.15551532155147016, 0.23628684514797016, 0.2338757548913582, 0.19288722052895524, 0.1820373143742015, 0.24423019096915588, 0.14653811458149352, 0.1953841527753247, 0.29307622916298703, 0.14653811458149352, 0.20686751585404867, 0.1432159725143414, 0.3023448308636096, 0.20686751585404867, 0.1432159725143414, 0.31283483941865975, 0.15641741970932987, 0.20855655961243982, 0.20855655961243982, 0.15641741970932987, 0.18090535138564093, 0.20706034194742032, 0.2135990895878652, 0.15910952591749142, 0.23975408014964458, 0.17110991769990383, 0.28233136420484134, 0.18394316152739662, 0.22672064095237257, 0.13688793415992306, 0.168854385898526, 0.157960554550234, 0.212429711291694, 0.283239615055592, 0.17430130157267198, 0.17285413541834788, 0.17285413541834788, 0.1959013534741276, 0.17285413541834788, 0.2765666166693566, 0.18242210771722986, 0.19545225826846055, 0.2606030110246141, 0.14333165606353773, 0.21825502173311428, 0.17973350051118814, 0.2029249199319866, 0.1333506616695912, 0.18553135536638776, 0.3014884524703801, 0.1544789537713415, 0.21122632454448734, 0.2616684318983948, 0.176547375738676, 0.19546316599639127, 0.1748271676911845, 0.15563882001776183, 0.206807747146889, 0.24731648112411467, 0.21533590166841018, 0.2974246106625365, 0.1858903816640853, 0.20447941983049384, 0.13012326716485972, 0.1858903816640853, 0.175496282709914, 0.15702298979308094, 0.14778634333466442, 0.24938945437724622, 0.2678627472940793, 0.2870253868041427, 0.1607342166103199, 0.2583228481237284, 0.13203167792990564, 0.16647472434640276, 0.30359717097471906, 0.16866509498595503, 0.20239811398314603, 0.16866509498595503, 0.16866509498595503, 0.29321418300163066, 0.20158475081362107, 0.16493297793841724, 0.20158475081362107, 0.14660709150081533, 0.17400641674822015, 0.1972072723146495, 0.26680983901393757, 0.12760470561536144, 0.22040812788107886, 0.1755140311815994, 0.19216864727912342, 0.1985742688550942, 0.2651927332451903, 0.1691084096056286, 0.24175305286687285, 0.16116870191124857, 0.16116870191124857, 0.27398679324912256, 0.16116870191124857, 0.22689811750229816, 0.16790460695170065, 0.17546787753511056, 0.23748669631907207, 0.19210707281861245, 0.2920845296928555, 0.17308712870687734, 0.17308712870687734, 0.23799480197195633, 0.129815346530158, 0.1315489342711535, 0.2537015160943675, 0.2944190433687721, 0.16913434406291164, 0.15034163916703255, 0.2485591839196175, 0.16570612261307835, 0.16570612261307835, 0.16570612261307835, 0.2485591839196175, 0.1348761278593772, 0.16119342110023127, 0.19737969930640564, 0.2927798873045017, 0.2171176692370462, 0.32844377352250553, 0.16422188676125277, 0.19706626411350334, 0.19706626411350334, 0.13137750940900222, 0.2184925871618412, 0.2151820934169648, 0.16883518098869546, 0.2549080183554814, 0.1456617247745608, 0.17658310652133943, 0.17658310652133943, 0.17658310652133943, 0.23544414202845257, 0.29430517753556573, 0.19316428425658555, 0.2823170308365481, 0.1634467020632647, 0.14858791096660426, 0.2228818664499064, 0.16669714814768863, 0.16669714814768863, 0.25004572222153293, 0.16669714814768863, 0.16669714814768863, 0.2458395404149516, 0.17289813831381212, 0.15939047125804554, 0.18640580536957868, 0.23233187335918504, 0.2678422597502659, 0.17856150650017724, 0.17856150650017724, 0.17856150650017724, 0.17856150650017724, 0.14901237762024253, 0.2637332039052828, 0.2263242388123349, 0.15088282587488994, 0.21011368727205745, 0.16438020117278984, 0.28273394601719853, 0.13807936898514347, 0.24328269773572897, 0.17095540921970145, 0.27331214614123905, 0.1590179759367209, 0.1590179759367209, 0.1938031581728786, 0.21368040516496872, 0.17004223846268499, 0.18455803930706052, 0.219810698500544, 0.18663172514197132, 0.23847387101474113, 0.14805329091346264, 0.14855516647588116, 0.20476522946675513, 0.25244340789651426, 0.24591902558507356, 0.1810059213642883, 0.2715088820464325, 0.1508382678035736, 0.1810059213642883, 0.1810059213642883, 0.20410137024234565, 0.16395028101434322, 0.143874736400342, 0.2710198522890163, 0.21748506665167977, 0.22010352052493082, 0.1546673387472487, 0.1784623139391331, 0.172513570141162, 0.27364221470667077, 0.1660486365448631, 0.14856983269803542, 0.31461846924289855, 0.20974564616193236, 0.1660486365448631, 0.15090474157364567, 0.15090474157364567, 0.18108568988837478, 0.21126663820310393, 0.30180948314729134, 0.20160520182769237, 0.30240780274153856, 0.20160520182769237, 0.20160520182769237, 0.20160520182769237, 0.19059446392549417, 0.16573431645695144, 0.19059446392549417, 0.26517490633112234, 0.18230774810264658, 0.15830687666703044, 0.18996825200043654, 0.18996825200043654, 0.30078306566735785, 0.15830687666703044, 0.17660297218376572, 0.20482303474921282, 0.2321327727157745, 0.21028498234252516, 0.17569264758488032, 0.28882151930834676, 0.17329291158500806, 0.17329291158500806, 0.20217506351584275, 0.14441075965417338, 0.2329835916449914, 0.1553223944299943, 0.1553223944299943, 0.1553223944299943, 0.3106447888599886, 0.1504692055120733, 0.20062560734943108, 0.3009384110241466, 0.20062560734943108, 0.1504692055120733, 0.2892456828153641, 0.14462284140768206, 0.17354740968921845, 0.20247197797075486, 0.17354740968921845, 0.18516815522065633, 0.16567677046058724, 0.16567677046058724, 0.19491384760069086, 0.2923707714010363, 0.18750030918018715, 0.28125046377028073, 0.15625025765015596, 0.15625025765015596, 0.21875036071021833, 0.17744450698734743, 0.17744450698734743, 0.19518895768608216, 0.17744450698734743, 0.2661667604810211, 0.23137491426686224, 0.16168367502985553, 0.2620390595311452, 0.22301196555842143, 0.12265658105713179, 0.28784175297795034, 0.1599120849877502, 0.1599120849877502, 0.19189450198530023, 0.19189450198530023, 0.17602053262439718, 0.17602053262439718, 0.17602053262439718, 0.2933675543739953, 0.17602053262439718, 0.1553633806159132, 0.21511852700664905, 0.14341235133776603, 0.16731440989406038, 0.3226777905099736, 0.2852149392412318, 0.17112896354473908, 0.17112896354473908, 0.17112896354473908, 0.17112896354473908, 0.23337286144242608, 0.18256256755875863, 0.17429112436839417, 0.22864632247650352, 0.181380932817278, 0.19984674855742682, 0.17986207370168414, 0.13989272399019875, 0.2797854479803975, 0.19984674855742682, 0.25288108889574124, 0.17478545850146823, 0.146894161932085, 0.23800573072540354, 0.18780139690051373, 0.1760044865518191, 0.2707761331566448, 0.18954329320965135, 0.14892687323615464, 0.21662090652531582, 0.2693944757985139, 0.15743833001211852, 0.17143284823541793, 0.17143284823541793, 0.2309095506844405, 0.19127623103839905, 0.18888527815041906, 0.23431338302203883, 0.200840042590319, 0.18529884881844907, 0.1679568536497929, 0.2223654118743737, 0.25311807521870194, 0.17505362211386866, 0.1821503905779444, 0.27485404944051006, 0.13543532870981656, 0.20049739838414019, 0.2031529930647248, 0.18589162764092468, 0.15725088529298387, 0.17821766999871505, 0.20966784705731184, 0.17821766999871505, 0.28305159352737097, 0.15397925713876723, 0.19389980528585501, 0.17108806348751912, 0.18819686983627104, 0.2908497079287825, 0.19762202450102745, 0.2580817306269126, 0.14979568980443178, 0.1967196408275068, 0.19762202450102745, 0.26914371750392896, 0.14983258500218727, 0.18867807000275433, 0.20532613500299737, 0.18867807000275433, 0.3003650088215179, 0.15018250441075895, 0.20024333921434526, 0.20024333921434526, 0.20024333921434526, 0.19516682457069934, 0.19516682457069934, 0.1626390204755828, 0.292750236856049, 0.1626390204755828, 0.24272686207121108, 0.1611204170645108, 0.17995267360451855, 0.2301720243778726, 0.18623009245118782, 0.29575538379547733, 0.18484711487217334, 0.110908268923304, 0.221816537846608, 0.18484711487217334, 0.28957153154792875, 0.14478576577396438, 0.2084915027145087, 0.1853257801906744, 0.16795148829779866, 0.22474711559383698, 0.1318228274156159, 0.1577551869072125, 0.24203535525490136, 0.2441963852125344, 0.19297246440681826, 0.2894586966102274, 0.16081038700568187, 0.19297246440681826, 0.16081038700568187, 0.17186756297569794, 0.2864459382928299, 0.17186756297569794, 0.19096395886188658, 0.21006035474807525, 0.20864767173680157, 0.18360995112838538, 0.1877829045631214, 0.15439927708523316, 0.258723112953634, 0.15738491770479907, 0.2885390157921316, 0.22296196674846533, 0.1639426226091657, 0.1705003275135323, 0.194140029009016, 0.1950265131597421, 0.1746373776930418, 0.25353446710766475, 0.1826157350495767, 0.2382043384696532, 0.20842879616094656, 0.20630197171032466, 0.16163865824726467, 0.1850337272041056, 0.19523255982900853, 0.2765794597577621, 0.21150193981475923, 0.17896317984325782, 0.1464244198717564], \"Term\": [\"acceptable\", \"acceptable\", \"acceptable\", \"acceptable\", \"acceptable\", \"airline\", \"airline\", \"airline\", \"airline\", \"airline\", \"airway\", \"airway\", \"airway\", \"airway\", \"airway\", \"alcohol\", \"alcohol\", \"alcohol\", \"alcohol\", \"alcohol\", \"almost\", \"almost\", \"almost\", \"almost\", \"almost\", \"also\", \"also\", \"also\", \"also\", \"also\", \"alternative\", \"alternative\", \"alternative\", \"alternative\", \"alternative\", \"although\", \"although\", \"although\", \"although\", \"although\", \"amazing\", \"amazing\", \"amazing\", \"amazing\", \"amazing\", \"amsterdam\", \"amsterdam\", \"amsterdam\", \"amsterdam\", \"amsterdam\", \"apart\", \"apart\", \"apart\", \"apart\", \"apart\", \"apparently\", \"apparently\", \"apparently\", \"apparently\", \"apparently\", \"assistance\", \"assistance\", \"assistance\", \"assistance\", \"assistance\", \"avios\", \"avios\", \"avios\", \"avios\", \"avios\", \"ba\", \"ba\", \"ba\", \"ba\", \"ba\", \"back\", \"back\", \"back\", \"back\", \"back\", \"bag\", \"bag\", \"bag\", \"bag\", \"bag\", \"bassinet\", \"bassinet\", \"bassinet\", \"bassinet\", \"bassinet\", \"best\", \"best\", \"best\", \"best\", \"best\", \"biz\", \"biz\", \"biz\", \"biz\", \"biz\", \"boarding\", \"boarding\", \"boarding\", \"boarding\", \"boarding\", \"boeing\", \"boeing\", \"boeing\", \"boeing\", \"boeing\", \"booked\", \"booked\", \"booked\", \"booked\", \"booked\", \"breakfast\", \"breakfast\", \"breakfast\", \"breakfast\", \"breakfast\", \"british\", \"british\", \"british\", \"british\", \"british\", \"business\", \"business\", \"business\", \"business\", \"business\", \"cabin\", \"cabin\", \"cabin\", \"cabin\", \"cabin\", \"call\", \"call\", \"call\", \"call\", \"call\", \"called\", \"called\", \"called\", \"called\", \"called\", \"canceled\", \"canceled\", \"canceled\", \"canceled\", \"canceled\", \"cancelled\", \"cancelled\", \"cancelled\", \"cancelled\", \"cancelled\", \"catering\", \"catering\", \"catering\", \"catering\", \"catering\", \"centre\", \"centre\", \"centre\", \"centre\", \"centre\", \"change\", \"change\", \"change\", \"change\", \"change\", \"charged\", \"charged\", \"charged\", \"charged\", \"charged\", \"charging\", \"charging\", \"charging\", \"charging\", \"charging\", \"check\", \"check\", \"check\", \"check\", \"check\", \"cheese\", \"cheese\", \"cheese\", \"cheese\", \"cheese\", \"chinese\", \"chinese\", \"chinese\", \"chinese\", \"chinese\", \"city\", \"city\", \"city\", \"city\", \"city\", \"claim\", \"claim\", \"claim\", \"claim\", \"claim\", \"class\", \"class\", \"class\", \"class\", \"class\", \"club\", \"club\", \"club\", \"club\", \"club\", \"coach\", \"coach\", \"coach\", \"coach\", \"coach\", \"comfortable\", \"comfortable\", \"comfortable\", \"comfortable\", \"comfortable\", \"confirmation\", \"confirmation\", \"confirmation\", \"confirmation\", \"confirmation\", \"confirmed\", \"confirmed\", \"confirmed\", \"confirmed\", \"confirmed\", \"constantly\", \"constantly\", \"constantly\", \"constantly\", \"constantly\", \"could\", \"could\", \"could\", \"could\", \"could\", \"crew\", \"crew\", \"crew\", \"crew\", \"crew\", \"cup\", \"cup\", \"cup\", \"cup\", \"cup\", \"customer\", \"customer\", \"customer\", \"customer\", \"customer\", \"dhabi\", \"dhabi\", \"dhabi\", \"dhabi\", \"dhabi\", \"different\", \"different\", \"different\", \"different\", \"different\", \"disgraceful\", \"disgraceful\", \"disgraceful\", \"disgraceful\", \"disgraceful\", \"door\", \"door\", \"door\", \"door\", \"door\", \"drink\", \"drink\", \"drink\", \"drink\", \"drink\", \"driver\", \"driver\", \"driver\", \"driver\", \"driver\", \"due\", \"due\", \"due\", \"due\", \"due\", \"duration\", \"duration\", \"duration\", \"duration\", \"duration\", \"economy\", \"economy\", \"economy\", \"economy\", \"economy\", \"edge\", \"edge\", \"edge\", \"edge\", \"edge\", \"efficient\", \"efficient\", \"efficient\", \"efficient\", \"efficient\", \"email\", \"email\", \"email\", \"email\", \"email\", \"enough\", \"enough\", \"enough\", \"enough\", \"enough\", \"etc\", \"etc\", \"etc\", \"etc\", \"etc\", \"even\", \"even\", \"even\", \"even\", \"even\", \"every\", \"every\", \"every\", \"every\", \"every\", \"executive\", \"executive\", \"executive\", \"executive\", \"executive\", \"experience\", \"experience\", \"experience\", \"experience\", \"experience\", \"extra\", \"extra\", \"extra\", \"extra\", \"extra\", \"fast\", \"fast\", \"fast\", \"fast\", \"fast\", \"fed\", \"fed\", \"fed\", \"fed\", \"fed\", \"fee\", \"fee\", \"fee\", \"fee\", \"fee\", \"find\", \"find\", \"find\", \"find\", \"find\", \"finish\", \"finish\", \"finish\", \"finish\", \"finish\", \"first\", \"first\", \"first\", \"first\", \"first\", \"flew\", \"flew\", \"flew\", \"flew\", \"flew\", \"flight\", \"flight\", \"flight\", \"flight\", \"flight\", \"flown\", \"flown\", \"flown\", \"flown\", \"flown\", \"fly\", \"fly\", \"fly\", \"fly\", \"fly\", \"food\", \"food\", \"food\", \"food\", \"food\", \"found\", \"found\", \"found\", \"found\", \"found\", \"frequent\", \"frequent\", \"frequent\", \"frequent\", \"frequent\", \"full\", \"full\", \"full\", \"full\", \"full\", \"future\", \"future\", \"future\", \"future\", \"future\", \"gatwick\", \"gatwick\", \"gatwick\", \"gatwick\", \"gatwick\", \"gave\", \"gave\", \"gave\", \"gave\", \"gave\", \"get\", \"get\", \"get\", \"get\", \"get\", \"give\", \"give\", \"give\", \"give\", \"give\", \"given\", \"given\", \"given\", \"given\", \"given\", \"good\", \"good\", \"good\", \"good\", \"good\", \"grace\", \"grace\", \"grace\", \"grace\", \"grace\", \"great\", \"great\", \"great\", \"great\", \"great\", \"greeted\", \"greeted\", \"greeted\", \"greeted\", \"greeted\", \"gripe\", \"gripe\", \"gripe\", \"gripe\", \"gripe\", \"hand\", \"hand\", \"hand\", \"hand\", \"hand\", \"handed\", \"handed\", \"handed\", \"handed\", \"handed\", \"hanging\", \"hanging\", \"hanging\", \"hanging\", \"hanging\", \"hassle\", \"hassle\", \"hassle\", \"hassle\", \"hassle\", \"headrest\", \"headrest\", \"headrest\", \"headrest\", \"headrest\", \"heard\", \"heard\", \"heard\", \"heard\", \"heard\", \"heathrow\", \"heathrow\", \"heathrow\", \"heathrow\", \"heathrow\", \"horror\", \"horror\", \"horror\", \"horror\", \"horror\", \"hostess\", \"hostess\", \"hostess\", \"hostess\", \"hostess\", \"hotel\", \"hotel\", \"hotel\", \"hotel\", \"hotel\", \"hour\", \"hour\", \"hour\", \"hour\", \"hour\", \"however\", \"however\", \"however\", \"however\", \"however\", \"hr\", \"hr\", \"hr\", \"hr\", \"hr\", \"impossible\", \"impossible\", \"impossible\", \"impossible\", \"impossible\", \"ipad\", \"ipad\", \"ipad\", \"ipad\", \"ipad\", \"kiev\", \"kiev\", \"kiev\", \"kiev\", \"kiev\", \"know\", \"know\", \"know\", \"know\", \"know\", \"late\", \"late\", \"late\", \"late\", \"late\", \"leather\", \"leather\", \"leather\", \"leather\", \"leather\", \"leg\", \"leg\", \"leg\", \"leg\", \"leg\", \"lgw\", \"lgw\", \"lgw\", \"lgw\", \"lgw\", \"like\", \"like\", \"like\", \"like\", \"like\", \"line\", \"line\", \"line\", \"line\", \"line\", \"london\", \"london\", \"london\", \"london\", \"london\", \"long\", \"long\", \"long\", \"long\", \"long\", \"lounge\", \"lounge\", \"lounge\", \"lounge\", \"lounge\", \"lucia\", \"lucia\", \"lucia\", \"lucia\", \"lucia\", \"luggage\", \"luggage\", \"luggage\", \"luggage\", \"luggage\", \"major\", \"major\", \"major\", \"major\", \"major\", \"make\", \"make\", \"make\", \"make\", \"make\", \"man\", \"man\", \"man\", \"man\", \"man\", \"meal\", \"meal\", \"meal\", \"meal\", \"meal\", \"middle\", \"middle\", \"middle\", \"middle\", \"middle\", \"milan\", \"milan\", \"milan\", \"milan\", \"milan\", \"milk\", \"milk\", \"milk\", \"milk\", \"milk\", \"minute\", \"minute\", \"minute\", \"minute\", \"minute\", \"modern\", \"modern\", \"modern\", \"modern\", \"modern\", \"never\", \"never\", \"never\", \"never\", \"never\", \"new\", \"new\", \"new\", \"new\", \"new\", \"newcastle\", \"newcastle\", \"newcastle\", \"newcastle\", \"newcastle\", \"next\", \"next\", \"next\", \"next\", \"next\", \"nice\", \"nice\", \"nice\", \"nice\", \"nice\", \"night\", \"night\", \"night\", \"night\", \"night\", \"offer\", \"offer\", \"offer\", \"offer\", \"offer\", \"offering\", \"offering\", \"offering\", \"offering\", \"offering\", \"okay\", \"okay\", \"okay\", \"okay\", \"okay\", \"old\", \"old\", \"old\", \"old\", \"old\", \"older\", \"older\", \"older\", \"older\", \"older\", \"one\", \"one\", \"one\", \"one\", \"one\", \"ordered\", \"ordered\", \"ordered\", \"ordered\", \"ordered\", \"organised\", \"organised\", \"organised\", \"organised\", \"organised\", \"orlando\", \"orlando\", \"orlando\", \"orlando\", \"orlando\", \"outrageous\", \"outrageous\", \"outrageous\", \"outrageous\", \"outrageous\", \"packed\", \"packed\", \"packed\", \"packed\", \"packed\", \"paphos\", \"paphos\", \"paphos\", \"paphos\", \"paphos\", \"passenger\", \"passenger\", \"passenger\", \"passenger\", \"passenger\", \"pax\", \"pax\", \"pax\", \"pax\", \"pax\", \"people\", \"people\", \"people\", \"people\", \"people\", \"plane\", \"plane\", \"plane\", \"plane\", \"plane\", \"pm\", \"pm\", \"pm\", \"pm\", \"pm\", \"policy\", \"policy\", \"policy\", \"policy\", \"policy\", \"prague\", \"prague\", \"prague\", \"prague\", \"prague\", \"premium\", \"premium\", \"premium\", \"premium\", \"premium\", \"product\", \"product\", \"product\", \"product\", \"product\", \"professional\", \"professional\", \"professional\", \"professional\", \"professional\", \"provide\", \"provide\", \"provide\", \"provide\", \"provide\", \"quality\", \"quality\", \"quality\", \"quality\", \"quality\", \"quick\", \"quick\", \"quick\", \"quick\", \"quick\", \"quite\", \"quite\", \"quite\", \"quite\", \"quite\", \"really\", \"really\", \"really\", \"really\", \"really\", \"receive\", \"receive\", \"receive\", \"receive\", \"receive\", \"recommend\", \"recommend\", \"recommend\", \"recommend\", \"recommend\", \"refund\", \"refund\", \"refund\", \"refund\", \"refund\", \"refunded\", \"refunded\", \"refunded\", \"refunded\", \"refunded\", \"reply\", \"reply\", \"reply\", \"reply\", \"reply\", \"request\", \"request\", \"request\", \"request\", \"request\", \"return\", \"return\", \"return\", \"return\", \"return\", \"returned\", \"returned\", \"returned\", \"returned\", \"returned\", \"review\", \"review\", \"review\", \"review\", \"review\", \"rome\", \"rome\", \"rome\", \"rome\", \"rome\", \"room\", \"room\", \"room\", \"room\", \"room\", \"rotterdam\", \"rotterdam\", \"rotterdam\", \"rotterdam\", \"rotterdam\", \"route\", \"route\", \"route\", \"route\", \"route\", \"ruined\", \"ruined\", \"ruined\", \"ruined\", \"ruined\", \"said\", \"said\", \"said\", \"said\", \"said\", \"salzburg\", \"salzburg\", \"salzburg\", \"salzburg\", \"salzburg\", \"san\", \"san\", \"san\", \"san\", \"san\", \"sao\", \"sao\", \"sao\", \"sao\", \"sao\", \"screen\", \"screen\", \"screen\", \"screen\", \"screen\", \"seafood\", \"seafood\", \"seafood\", \"seafood\", \"seafood\", \"seat\", \"seat\", \"seat\", \"seat\", \"seat\", \"second\", \"second\", \"second\", \"second\", \"second\", \"see\", \"see\", \"see\", \"see\", \"see\", \"served\", \"served\", \"served\", \"served\", \"served\", \"service\", \"service\", \"service\", \"service\", \"service\", \"shared\", \"shared\", \"shared\", \"shared\", \"shared\", \"short\", \"short\", \"short\", \"short\", \"short\", \"singapore\", \"singapore\", \"singapore\", \"singapore\", \"singapore\", \"sit\", \"sit\", \"sit\", \"sit\", \"sit\", \"slept\", \"slept\", \"slept\", \"slept\", \"slept\", \"smiley\", \"smiley\", \"smiley\", \"smiley\", \"smiley\", \"someone\", \"someone\", \"someone\", \"someone\", \"someone\", \"south\", \"south\", \"south\", \"south\", \"south\", \"staff\", \"staff\", \"staff\", \"staff\", \"staff\", \"star\", \"star\", \"star\", \"star\", \"star\", \"statement\", \"statement\", \"statement\", \"statement\", \"statement\", \"stockholm\", \"stockholm\", \"stockholm\", \"stockholm\", \"stockholm\", \"supervisor\", \"supervisor\", \"supervisor\", \"supervisor\", \"supervisor\", \"sure\", \"sure\", \"sure\", \"sure\", \"sure\", \"surprisingly\", \"surprisingly\", \"surprisingly\", \"surprisingly\", \"surprisingly\", \"sydney\", \"sydney\", \"sydney\", \"sydney\", \"sydney\", \"take\", \"take\", \"take\", \"take\", \"take\", \"talk\", \"talk\", \"talk\", \"talk\", \"talk\", \"talking\", \"talking\", \"talking\", \"talking\", \"talking\", \"tasty\", \"tasty\", \"tasty\", \"tasty\", \"tasty\", \"telephone\", \"telephone\", \"telephone\", \"telephone\", \"telephone\", \"time\", \"time\", \"time\", \"time\", \"time\", \"today\", \"today\", \"today\", \"today\", \"today\", \"told\", \"told\", \"told\", \"told\", \"told\", \"town\", \"town\", \"town\", \"town\", \"town\", \"travel\", \"travel\", \"travel\", \"travel\", \"travel\", \"trip\", \"trip\", \"trip\", \"trip\", \"trip\", \"two\", \"two\", \"two\", \"two\", \"two\", \"u\", \"u\", \"u\", \"u\", \"u\", \"uk\", \"uk\", \"uk\", \"uk\", \"uk\", \"uncomfortable\", \"uncomfortable\", \"uncomfortable\", \"uncomfortable\", \"uncomfortable\", \"verified\", \"verified\", \"verified\", \"verified\", \"verified\", \"via\", \"via\", \"via\", \"via\", \"via\", \"vueling\", \"vueling\", \"vueling\", \"vueling\", \"vueling\", \"walked\", \"walked\", \"walked\", \"walked\", \"walked\", \"way\", \"way\", \"way\", \"way\", \"way\", \"wedding\", \"wedding\", \"wedding\", \"wedding\", \"wedding\", \"week\", \"week\", \"week\", \"week\", \"week\", \"well\", \"well\", \"well\", \"well\", \"well\", \"wider\", \"wider\", \"wider\", \"wider\", \"wider\", \"wifi\", \"wifi\", \"wifi\", \"wifi\", \"wifi\", \"wine\", \"wine\", \"wine\", \"wine\", \"wine\", \"worth\", \"worth\", \"worth\", \"worth\", \"worth\", \"would\", \"would\", \"would\", \"would\", \"would\", \"year\", \"year\", \"year\", \"year\", \"year\", \"yes\", \"yes\", \"yes\", \"yes\", \"yes\"]}, \"R\": 30, \"lambda.step\": 0.01, \"plot.opts\": {\"xlab\": \"PC1\", \"ylab\": \"PC2\"}, \"topic.order\": [3, 5, 2, 1, 4]};\n",
       "\n",
       "function LDAvis_load_lib(url, callback){\n",
       "  var s = document.createElement('script');\n",
       "  s.src = url;\n",
       "  s.async = true;\n",
       "  s.onreadystatechange = s.onload = callback;\n",
       "  s.onerror = function(){console.warn(\"failed to load library \" + url);};\n",
       "  document.getElementsByTagName(\"head\")[0].appendChild(s);\n",
       "}\n",
       "\n",
       "if(typeof(LDAvis) !== \"undefined\"){\n",
       "   // already loaded: just create the visualization\n",
       "   !function(LDAvis){\n",
       "       new LDAvis(\"#\" + \"ldavis_el196425264049178725090114028\", ldavis_el196425264049178725090114028_data);\n",
       "   }(LDAvis);\n",
       "}else if(typeof define === \"function\" && define.amd){\n",
       "   // require.js is available: use it to load d3/LDAvis\n",
       "   require.config({paths: {d3: \"https://d3js.org/d3.v5\"}});\n",
       "   require([\"d3\"], function(d3){\n",
       "      window.d3 = d3;\n",
       "      LDAvis_load_lib(\"https://cdn.jsdelivr.net/gh/bmabey/pyLDAvis@3.4.0/pyLDAvis/js/ldavis.v3.0.0.js\", function(){\n",
       "        new LDAvis(\"#\" + \"ldavis_el196425264049178725090114028\", ldavis_el196425264049178725090114028_data);\n",
       "      });\n",
       "    });\n",
       "}else{\n",
       "    // require.js not available: dynamically load d3 & LDAvis\n",
       "    LDAvis_load_lib(\"https://d3js.org/d3.v5.js\", function(){\n",
       "         LDAvis_load_lib(\"https://cdn.jsdelivr.net/gh/bmabey/pyLDAvis@3.4.0/pyLDAvis/js/ldavis.v3.0.0.js\", function(){\n",
       "                 new LDAvis(\"#\" + \"ldavis_el196425264049178725090114028\", ldavis_el196425264049178725090114028_data);\n",
       "            })\n",
       "         });\n",
       "}\n",
       "</script>"
      ],
      "text/plain": [
       "<IPython.core.display.HTML object>"
      ]
     },
     "execution_count": 25,
     "metadata": {},
     "output_type": "execute_result"
    }
   ],
   "source": [
    "vis = gensimvis.prepare(lda_model, corpus, id2word)\n",
    "pyLDAvis.display(vis)"
   ]
  },
  {
   "cell_type": "code",
   "execution_count": 31,
   "id": "d9c521a0",
   "metadata": {},
   "outputs": [
    {
     "ename": "NameError",
     "evalue": "name 'trigrams' is not defined",
     "output_type": "error",
     "traceback": [
      "\u001b[1;31m---------------------------------------------------------------------------\u001b[0m",
      "\u001b[1;31mNameError\u001b[0m                                 Traceback (most recent call last)",
      "Cell \u001b[1;32mIn[31], line 11\u001b[0m\n\u001b[0;32m      8\u001b[0m n \u001b[38;5;241m=\u001b[39m \u001b[38;5;241m2\u001b[39m  \u001b[38;5;66;03m# Change this to 3 for tri-grams, or any other desired value\u001b[39;00m\n\u001b[0;32m     10\u001b[0m \u001b[38;5;66;03m# Generate n-grams for all reviews\u001b[39;00m\n\u001b[1;32m---> 11\u001b[0m all_ngrams \u001b[38;5;241m=\u001b[39m [generate_ngrams(tokens, n) \u001b[38;5;28;01mfor\u001b[39;00m tokens \u001b[38;5;129;01min\u001b[39;00m tokenized_reviews]\n\u001b[0;32m     13\u001b[0m \u001b[38;5;66;03m# Flatten the list of n-grams\u001b[39;00m\n\u001b[0;32m     14\u001b[0m flat_ngrams \u001b[38;5;241m=\u001b[39m [gram \u001b[38;5;28;01mfor\u001b[39;00m ngram_list \u001b[38;5;129;01min\u001b[39;00m all_ngrams \u001b[38;5;28;01mfor\u001b[39;00m gram \u001b[38;5;129;01min\u001b[39;00m ngram_list]\n",
      "Cell \u001b[1;32mIn[31], line 11\u001b[0m, in \u001b[0;36m<listcomp>\u001b[1;34m(.0)\u001b[0m\n\u001b[0;32m      8\u001b[0m n \u001b[38;5;241m=\u001b[39m \u001b[38;5;241m2\u001b[39m  \u001b[38;5;66;03m# Change this to 3 for tri-grams, or any other desired value\u001b[39;00m\n\u001b[0;32m     10\u001b[0m \u001b[38;5;66;03m# Generate n-grams for all reviews\u001b[39;00m\n\u001b[1;32m---> 11\u001b[0m all_ngrams \u001b[38;5;241m=\u001b[39m [\u001b[43mgenerate_ngrams\u001b[49m\u001b[43m(\u001b[49m\u001b[43mtokens\u001b[49m\u001b[43m,\u001b[49m\u001b[43m \u001b[49m\u001b[43mn\u001b[49m\u001b[43m)\u001b[49m \u001b[38;5;28;01mfor\u001b[39;00m tokens \u001b[38;5;129;01min\u001b[39;00m tokenized_reviews]\n\u001b[0;32m     13\u001b[0m \u001b[38;5;66;03m# Flatten the list of n-grams\u001b[39;00m\n\u001b[0;32m     14\u001b[0m flat_ngrams \u001b[38;5;241m=\u001b[39m [gram \u001b[38;5;28;01mfor\u001b[39;00m ngram_list \u001b[38;5;129;01min\u001b[39;00m all_ngrams \u001b[38;5;28;01mfor\u001b[39;00m gram \u001b[38;5;129;01min\u001b[39;00m ngram_list]\n",
      "Cell \u001b[1;32mIn[31], line 4\u001b[0m, in \u001b[0;36mgenerate_ngrams\u001b[1;34m(tokens, n)\u001b[0m\n\u001b[0;32m      3\u001b[0m \u001b[38;5;28;01mdef\u001b[39;00m \u001b[38;5;21mgenerate_ngrams\u001b[39m(tokens, n):\n\u001b[1;32m----> 4\u001b[0m     n_grams \u001b[38;5;241m=\u001b[39m \u001b[43mtrigrams\u001b[49m(tokens, n)\n\u001b[0;32m      5\u001b[0m     \u001b[38;5;28;01mreturn\u001b[39;00m [\u001b[38;5;124m'\u001b[39m\u001b[38;5;124m \u001b[39m\u001b[38;5;124m'\u001b[39m\u001b[38;5;241m.\u001b[39mjoin(gram) \u001b[38;5;28;01mfor\u001b[39;00m gram \u001b[38;5;129;01min\u001b[39;00m n_grams]\n",
      "\u001b[1;31mNameError\u001b[0m: name 'trigrams' is not defined"
     ]
    }
   ],
   "source": [
    "tokenized_reviews = [word_tokenize(review.lower()) for review in df]\n",
    "\n",
    "def generate_ngrams(tokens, n):\n",
    "    n_grams = trigrams(tokens, n)\n",
    "    return [' '.join(gram) for gram in n_grams]\n",
    "\n",
    "# Specify the value of n (bi-grams, tri-grams, etc.)\n",
    "n = 2  # Change this to 3 for tri-grams, or any other desired value\n",
    "\n",
    "# Generate n-grams for all reviews\n",
    "all_ngrams = [generate_ngrams(tokens, n) for tokens in tokenized_reviews]\n",
    "\n",
    "# Flatten the list of n-grams\n",
    "flat_ngrams = [gram for ngram_list in all_ngrams for gram in ngram_list]\n",
    "\n",
    "# Calculate the frequency of each n-gram\n",
    "ngram_freq = Counter(flat_ngrams)\n",
    "\n",
    "# Display the most common n-grams\n",
    "most_common_ngrams = ngram_freq.most_common(10)  # Change 10 to the desired number of top n-grams\n",
    "\n",
    "for ngram, freq in most_common_ngrams:\n",
    "    print(f\"{ngram}: {freq}\")\n",
    "\n",
    "# Visualize the top n-grams\n",
    "top_ngrams, top_freqs = zip(*most_common_ngrams)\n",
    "\n",
    "plt.figure(figsize=(10, 6))\n",
    "plt.barh(top_ngrams, top_freqs)\n",
    "plt.xlabel('Frequency')\n",
    "plt.ylabel(f'Top {n}-grams')\n",
    "plt.title(f'Top {n}-grams in Customer Reviews')\n",
    "plt.gca().invert_yaxis() "
   ]
  },
  {
   "cell_type": "code",
   "execution_count": null,
   "id": "e1747932",
   "metadata": {},
   "outputs": [],
   "source": []
  }
 ],
 "metadata": {
  "kernelspec": {
   "display_name": "Python 3 (ipykernel)",
   "language": "python",
   "name": "python3"
  },
  "language_info": {
   "codemirror_mode": {
    "name": "ipython",
    "version": 3
   },
   "file_extension": ".py",
   "mimetype": "text/x-python",
   "name": "python",
   "nbconvert_exporter": "python",
   "pygments_lexer": "ipython3",
   "version": "3.10.9"
  }
 },
 "nbformat": 4,
 "nbformat_minor": 5
}
